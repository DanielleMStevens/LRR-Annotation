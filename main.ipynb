{
 "cells": [
  {
   "cell_type": "markdown",
   "id": "3428dacd-2ce6-42f3-991c-3d61743dd65e",
   "metadata": {
    "tags": []
   },
   "source": [
    "# Setup Conda Environment\n",
    "\n",
    "First, make sure you have a working `conda` installation. \n",
    "\n",
    "Next, run the code block below to create a new environment containing all the dependencies. Once the command runs, you'll need to close the notebook, activate the new environment with `conda activate lrr_annot`, and startup the notebook again. "
   ]
  },
  {
   "cell_type": "code",
   "execution_count": 1,
   "id": "d4d5805b-d71f-4c0c-9d00-a29255c54dac",
   "metadata": {
    "tags": []
   },
   "outputs": [
    {
     "name": "stdout",
     "output_type": "stream",
     "text": [
      "zsh:1: command not found: !conda\n"
     ]
    }
   ],
   "source": [
    "!if conda info --envs | grep -q \"lrr_annot\"; then echo \"Environment 'lrr_annot' already exists.\"; else !conda env create -n lrr_annot -f \"lrr_annot.yml\"; fi"
   ]
  },
  {
   "cell_type": "markdown",
   "id": "27f29cf3-553c-42a7-a761-b9edda447dc5",
   "metadata": {},
   "source": [
    "Make sure that the output of the codeblock below says `active environment : lrr_annot`!"
   ]
  },
  {
   "cell_type": "code",
   "execution_count": 8,
   "id": "da463e28-2e46-4530-a626-d1362fe4bcc8",
   "metadata": {
    "tags": []
   },
   "outputs": [
    {
     "name": "stdout",
     "output_type": "stream",
     "text": [
      "     active environment : lrr_annot\n"
     ]
    }
   ],
   "source": [
    "!conda info | grep -E \"active environment\""
   ]
  },
  {
   "cell_type": "code",
   "execution_count": 9,
   "id": "91185a87-db9f-40fe-ba99-a020c750c3fd",
   "metadata": {
    "tags": []
   },
   "outputs": [],
   "source": [
    "from methods import * # import all methods"
   ]
  },
  {
   "cell_type": "markdown",
   "id": "42c7ec03-e63a-4fe7-8c28-8c70ab043877",
   "metadata": {
    "tags": []
   },
   "source": [
    "## Select dataset\n",
    "\n",
    "Use the dialog below to select a folder of PDB files you'd like to analyze."
   ]
  },
  {
   "cell_type": "code",
   "execution_count": 10,
   "id": "9d8c9096-b5cb-46d9-84cd-10f54a6bb65e",
   "metadata": {
    "tags": []
   },
   "outputs": [
    {
     "data": {
      "application/vnd.jupyter.widget-view+json": {
       "model_id": "b13b3ac71c904878bdd623ee82bbe0e6",
       "version_major": 2,
       "version_minor": 0
      },
      "text/plain": [
       "FileChooser(path='/Users/amc/Desktop/final', filename='', title='', show_hidden=False, select_desc='Select', c…"
      ]
     },
     "metadata": {},
     "output_type": "display_data"
    }
   ],
   "source": [
    "import ipywidgets as widgets\n",
    "from ipyfilechooser import FileChooser\n",
    "\n",
    "fc = FileChooser('') # file chooser widget\n",
    "display(fc)"
   ]
  },
  {
   "cell_type": "code",
   "execution_count": 11,
   "id": "5ece6f1d-8cbc-4120-8ebb-12438cb851b3",
   "metadata": {
    "tags": []
   },
   "outputs": [],
   "source": [
    "pdb_dir = fc.value"
   ]
  },
  {
   "cell_type": "code",
   "execution_count": 12,
   "id": "85cb371f-bad3-4a9e-a2a2-131fa2ea4609",
   "metadata": {},
   "outputs": [
    {
     "name": "stdout",
     "output_type": "stream",
     "text": [
      "Protein identifiers:\n",
      "\n",
      " []\n"
     ]
    }
   ],
   "source": [
    "filenames = get_files_with_ext(pdb_dir, '.pdb') # retrieve list of filenames\n",
    "protlist = [os.path.splitext(file)[0] for file in filenames] # give each protein a unique identifier\n",
    "print('Protein identifiers:\\n\\n', protlist)"
   ]
  },
  {
   "cell_type": "code",
   "execution_count": 13,
   "id": "71f25eb0-2d89-4713-9c06-e3db76835544",
   "metadata": {
    "tags": []
   },
   "outputs": [],
   "source": [
    "pdb_dir"
   ]
  },
  {
   "cell_type": "markdown",
   "id": "02cd2b8e-0dbd-41c7-b5eb-37ae8f6ebbde",
   "metadata": {},
   "source": [
    "## Caching and Plotting\n",
    "\n",
    "Select a directory for caching the analysis data, if you'd like not to recompute all the analyses. Then, select a directory to save plots. "
   ]
  },
  {
   "cell_type": "code",
   "execution_count": 15,
   "id": "e7144fe5-dfc3-4f51-bd40-486df60c7d71",
   "metadata": {},
   "outputs": [
    {
     "name": "stdout",
     "output_type": "stream",
     "text": [
      "Choose directory to cache analyses:\n"
     ]
    },
    {
     "data": {
      "application/vnd.jupyter.widget-view+json": {
       "model_id": "3ea521921489498db374fdb720f79977",
       "version_major": 2,
       "version_minor": 0
      },
      "text/plain": [
       "FileChooser(path='/Users/amc/Desktop/final', filename='', title='', show_hidden=False, select_desc='Select', c…"
      ]
     },
     "metadata": {},
     "output_type": "display_data"
    }
   ],
   "source": [
    "cache_dir = None\n",
    "fc2 = FileChooser('') # another file chooser widget \n",
    "print('Choose directory to cache analyses:')\n",
    "display(fc2)"
   ]
  },
  {
   "cell_type": "code",
   "execution_count": 16,
   "id": "1bb27d1c-263c-4af4-866c-6e8b20d5f80b",
   "metadata": {
    "tags": []
   },
   "outputs": [],
   "source": [
    "cache_dir = fc2.value\n",
    "cache_dir"
   ]
  },
  {
   "cell_type": "code",
   "execution_count": 17,
   "id": "981f9756-3020-421b-b689-8e24e1ba8dbe",
   "metadata": {
    "tags": []
   },
   "outputs": [
    {
     "name": "stdout",
     "output_type": "stream",
     "text": [
      "Choose directory to save plots:\n"
     ]
    },
    {
     "data": {
      "application/vnd.jupyter.widget-view+json": {
       "model_id": "3c9c928739e943ad9081a3678515d7ff",
       "version_major": 2,
       "version_minor": 0
      },
      "text/plain": [
       "FileChooser(path='/Users/amc/Desktop/final', filename='', title='', show_hidden=False, select_desc='Select', c…"
      ]
     },
     "metadata": {},
     "output_type": "display_data"
    }
   ],
   "source": [
    "plot_dir = None\n",
    "fc3 = FileChooser('') # another file chooser widget \n",
    "print('Choose directory to save plots:')\n",
    "display(fc3)"
   ]
  },
  {
   "cell_type": "code",
   "execution_count": 18,
   "id": "4d87e9b0-174d-41c8-bbc6-348d8b8ae02e",
   "metadata": {
    "tags": []
   },
   "outputs": [],
   "source": [
    "plot_dir = fc3.value\n",
    "plot_dir"
   ]
  },
  {
   "cell_type": "code",
   "execution_count": 20,
   "id": "6eab4b0f-5a99-4be6-9d81-0af4132a3cae",
   "metadata": {},
   "outputs": [],
   "source": [
    "from tqdm import tqdm\n",
    "import pickle\n",
    "\n",
    "# if there is cached\n",
    "if cache_dir is None:\n",
    "    pass\n",
    "else:\n",
    "    cutoff_d = {}\n",
    "    std_d = {}\n",
    "    regression_d = {}\n",
    "    for protid in tqdm(protlist):\n",
    "        preX = get_backbone_from_pdb(f'{pdb_dir}{protid}.pdb')\n",
    "        winding, m, parameters = get_regression(preX)\n",
    "        regression_d[protid] = (winding, m, parameters)\n",
    "        \n",
    "        stddev = plot_regression(winding, parameters, m, save = True, filename = f'{plot_dir}{protid}')\n",
    "        std_d[protid] = stddev\n",
    "        cutoff_d[protid] = tuple(parameters.astype('int'))\n",
    "    with open(f'{cache_dir}cutoff_d.pickle', 'wb') as handle:\n",
    "        pickle.dump(cutoff_d, handle)\n",
    "    with open(f'{cache_dir}std_d.pickle', 'wb') as handle:\n",
    "        pickle.dump(std_d, handle)\n",
    "    with open(f'{cache_dir}regression_d.pickle', 'wb') as handle:\n",
    "        pickle.dump(regression_d, handle)"
   ]
  },
  {
   "cell_type": "markdown",
   "id": "4f61c56b-3ae4-42d2-ad04-4e18f901f9d7",
   "metadata": {},
   "source": [
    "## Generating plots from cached data"
   ]
  },
  {
   "cell_type": "code",
   "execution_count": 23,
   "id": "8b31bf72-f721-44c1-a352-d9b92071b11f",
   "metadata": {
    "tags": []
   },
   "outputs": [],
   "source": [
    "cutoff_d = {}\n",
    "std_d = {}\n",
    "regression_d = {}"
   ]
  },
  {
   "cell_type": "code",
   "execution_count": 22,
   "id": "957dc7da-2cc7-4a37-af37-f121af431b86",
   "metadata": {
    "tags": []
   },
   "outputs": [
    {
     "data": {
      "application/vnd.jupyter.widget-view+json": {
       "model_id": "9c42180219834519b49bd0959ac0b3f0",
       "version_major": 2,
       "version_minor": 0
      },
      "text/plain": [
       "Button(description='Analyze', style=ButtonStyle(), tooltip='Analyze the proteins in the selected folder.')"
      ]
     },
     "metadata": {},
     "output_type": "display_data"
    }
   ],
   "source": [
    "def analyze(*args, **kwargs):\n",
    "    if cache_dir is None:\n",
    "        for protid in tqdm(protlist):\n",
    "            preX = get_backbone_from_pdb(f'{pdb_dir}{protid}.pdb')\n",
    "            winding, m, parameters = get_regression(preX)\n",
    "            regression_d[protid] = (winding, m, parameters)\n",
    "    else:\n",
    "        with open(f'{cache_dir}cutoff_d.pickle', 'wb') as handle:\n",
    "            pickle.dump(cutoff_d, handle)\n",
    "        with open(f'{cache_dir}std_d.pickle', 'wb') as handle:\n",
    "            pickle.dump(std_d, handle)\n",
    "        with open(f'{cache_dir}regression_d.pickle', 'wb') as handle:\n",
    "            pickle.dump(regression_d, handle)\n",
    "\n",
    "def make_plots(*args, **kwargs):\n",
    "    for protid, (winding, parameters, m) in regression_d:\n",
    "        stddev = plot_regression(winding, parameters, m, save = True, filename = f'{plot_dir}{protid}')\n",
    "        std_d[protid] = stddev\n",
    "        cutoff_d[protid] = tuple(parameters.astype('int'))\n",
    "            \n",
    "if not cache_dir is None:\n",
    "    cache_button = widgets.Button(\n",
    "        description = 'Load cached analysis',\n",
    "        disabled = False,\n",
    "        button_style = '', # 'success', 'info', 'warning', 'danger' or ''\n",
    "        tooltip = 'Load dictionaries from cache.'\n",
    "    )\n",
    "    \n",
    "    cache_button.on_click(load_from_cache)\n",
    "    display(cache_button)\n",
    "            \n",
    "analyze_button = widgets.Button(\n",
    "    description = 'Analyze' if cache_dir is None else 'Analyze and cache',\n",
    "    disabled = False,\n",
    "    button_style = '', # 'success', 'info', 'warning', 'danger' or ''\n",
    "    tooltip = 'Analyze the proteins in the selected folder.'\n",
    ")\n",
    "\n",
    "analyze_button.on_click(analyze)\n",
    "display(analyze_button)\n"
   ]
  },
  {
   "cell_type": "code",
   "execution_count": null,
   "id": "e55fb949-56fb-49d8-90b1-7e6360ba23c1",
   "metadata": {},
   "outputs": [],
   "source": []
  },
  {
   "cell_type": "code",
   "execution_count": 71,
   "id": "f8fa8cb2-da04-4f4b-ab96-7f2ddf8d24c9",
   "metadata": {
    "tags": []
   },
   "outputs": [],
   "source": [
    "def analyze(protlist):\n",
    "    cutoff_d = {}\n",
    "    std_d = {}\n",
    "    for protid in protlist:\n",
    "        preX = get_backbone_from_pdb(f'pdb/{protid}.pdb')\n",
    "        winding, m, parameters = get_regression(preX)\n",
    "        with warnings.catch_warnings():\n",
    "            warnings.simplefilter(\"ignore\", category=RuntimeWarning)\n",
    "            stddev = plot_regression(winding, parameters, m, save = True, filename = f'plot/regression/{protid}')\n",
    "            std_d[protid] = stddev\n",
    "            cutoff_d[protid] = tuple(parameters.astype('int'))\n",
    "            \n",
    "    if not cache_dir is None:\n",
    "        with open('pickles/cutoff_d.pickle', 'wb') as handle:\n",
    "            pickle.dump(cutoff_d, handle)\n",
    "        with open('pickles/std_d.pickle', 'wb') as handle:\n",
    "            pickle.dump(std_d, handle)\n",
    "            \n",
    "    return cuttof_d, std_d\n",
    "\n",
    "def test(*args, **kwargs):\n",
    "    print(args, kwargs)\n",
    "    return 0\n",
    "\n"
   ]
  },
  {
   "cell_type": "code",
   "execution_count": 44,
   "id": "e13e8aee-9df9-4e61-9a31-5104756c4d31",
   "metadata": {
    "tags": []
   },
   "outputs": [],
   "source": []
  },
  {
   "cell_type": "code",
   "execution_count": 46,
   "id": "81f63f3b-b9f4-4369-80b4-5e4bec84f718",
   "metadata": {},
   "outputs": [],
   "source": [
    "x"
   ]
  },
  {
   "cell_type": "code",
   "execution_count": null,
   "id": "47163e9c-4078-43e0-9337-70cf18a80d07",
   "metadata": {},
   "outputs": [],
   "source": []
  }
 ],
 "metadata": {
  "kernelspec": {
   "display_name": "Python 3 (ipykernel)",
   "language": "python",
   "name": "python3"
  },
  "language_info": {
   "codemirror_mode": {
    "name": "ipython",
    "version": 3
   },
   "file_extension": ".py",
   "mimetype": "text/x-python",
   "name": "python",
   "nbconvert_exporter": "python",
   "pygments_lexer": "ipython3",
   "version": "3.10.12"
  }
 },
 "nbformat": 4,
 "nbformat_minor": 5
}
