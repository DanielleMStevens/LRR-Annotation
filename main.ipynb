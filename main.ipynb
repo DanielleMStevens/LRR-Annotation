{
 "cells": [
  {
   "cell_type": "markdown",
   "id": "3428dacd-2ce6-42f3-991c-3d61743dd65e",
   "metadata": {
    "tags": []
   },
   "source": [
    "# Setup Conda Environment\n",
    "\n",
    "First, make sure you have a working `conda` installation. \n",
    "\n",
    "Next, run the code block below to create a new environment containing all the dependencies. Once the command runs, you'll need to close the notebook, activate the new environment with `conda activate lrr_annot`, and startup the notebook again. "
   ]
  },
  {
   "cell_type": "code",
   "execution_count": 1,
   "id": "d4d5805b-d71f-4c0c-9d00-a29255c54dac",
   "metadata": {
    "tags": []
   },
   "outputs": [
    {
     "name": "stdout",
     "output_type": "stream",
     "text": [
      "Environment 'lrr_annot' already exists.\n"
     ]
    }
   ],
   "source": [
    "!if conda info --envs | grep -q \"lrr_annot\"; then echo \"Environment 'lrr_annot' already exists.\"; else !conda env create -n lrr_annot -f \"lrr_annot.yml\"; fi"
   ]
  },
  {
   "cell_type": "markdown",
   "id": "27f29cf3-553c-42a7-a761-b9edda447dc5",
   "metadata": {},
   "source": [
    "Make sure that the output of the codeblock below says `active environment : lrr_annot`!"
   ]
  },
  {
   "cell_type": "code",
   "execution_count": 2,
   "id": "da463e28-2e46-4530-a626-d1362fe4bcc8",
   "metadata": {
    "tags": []
   },
   "outputs": [
    {
     "name": "stdout",
     "output_type": "stream",
     "text": [
      "     active environment : lrr_annot\n"
     ]
    }
   ],
   "source": [
    "!conda info | grep -E \"active environment\""
   ]
  },
  {
   "cell_type": "code",
   "execution_count": 3,
   "id": "91185a87-db9f-40fe-ba99-a020c750c3fd",
   "metadata": {
    "tags": []
   },
   "outputs": [],
   "source": [
    "from methods import * # import all methods"
   ]
  },
  {
   "cell_type": "markdown",
   "id": "42c7ec03-e63a-4fe7-8c28-8c70ab043877",
   "metadata": {
    "tags": []
   },
   "source": [
    "## Select dataset\n",
    "\n",
    "Use the dialog below to select a folder of PDB files you'd like to analyze."
   ]
  },
  {
   "cell_type": "code",
   "execution_count": 4,
   "id": "9d8c9096-b5cb-46d9-84cd-10f54a6bb65e",
   "metadata": {
    "tags": []
   },
   "outputs": [
    {
     "data": {
      "application/vnd.jupyter.widget-view+json": {
       "model_id": "afe09fb7b3074953ad7591f9844e3c93",
       "version_major": 2,
       "version_minor": 0
      },
      "text/plain": [
       "FileChooser(path='/Users/amc/Desktop/final', filename='', title='', show_hidden=False, select_desc='Select', c…"
      ]
     },
     "metadata": {},
     "output_type": "display_data"
    }
   ],
   "source": [
    "import ipywidgets as widgets\n",
    "from ipyfilechooser import FileChooser\n",
    "\n",
    "fc = FileChooser('') # file chooser widget\n",
    "display(fc)"
   ]
  },
  {
   "cell_type": "code",
   "execution_count": 5,
   "id": "5ece6f1d-8cbc-4120-8ebb-12438cb851b3",
   "metadata": {
    "tags": []
   },
   "outputs": [],
   "source": [
    "pdb_dir = fc.value"
   ]
  },
  {
   "cell_type": "code",
   "execution_count": 6,
   "id": "85cb371f-bad3-4a9e-a2a2-131fa2ea4609",
   "metadata": {},
   "outputs": [
    {
     "name": "stdout",
     "output_type": "stream",
     "text": [
      "Protein identifiers:\n",
      "\n",
      " ['1064PERA', '1355D3IA', '984MN8A', '202IFGA', '172ELLA', '352Z63A', '633TSRE', '242O6SA', '21IO0A', '814ECNA', '994MN8B', '423B2DA', '1074PKIG', '834EZGA', '764B8CD', '613SB4A', '673VQ2A', '121XKUA', '362Z66A', '663V44A', '51OGQA', '733ZYOA', '413A79B', '1124Q62A', '583RG1A', '443CIGA', '1495Y30A', '1636FG8A', '683WN4A', '503J0AA', '1686GYUA', '1596DBGA', '794CNMA', '1365GR8A', '342Z62A', '954KXFB', '914H09A', '884G8AA', '372Z7XA', '653UN9A', '1324Z79A', '111XEUA', '31JL5A', '1606EJXA', '1455WLSA', '1515YQ5A', '232O6RA', '1054PEQB', '1204TZHA', '1334Z8GA', '1726K2DB', '693WO9A', '894GLPA', '1776R1HA', '1646FG8B', '1044PBVA', '1676GFFI', '1024OW2A', '1254V2EA', '1545Z8XA', '804CP6A', '974LXRA', '1766OBPC', '453E4GA', '1194RWTC', '1385HZLB', '101WWLA', '392Z80A', '1746NPYA', '904GT6A', '1264XA9A', '1294Y61B', '11H6UA', '1014OJUA', '1274XGOA', '784CILA', '1284XSQA', '1345B0NA', '754AY9X', '824ECOA', '874FS7A', '1174R6GA', '553OGKB', '1525YUDA', '1244UFRA', '593RGZA', '643TWID', '1144QXEA', '1214U06A', '1756O60C', '1375HL3A', '623T6QA', '332XWTC', '382Z7XB', '41O6VA', '402Z81A', '292V70A', '1555ZB2A', '493GOZA', '473G06A', '1084PO4A', '1405JFKA', '1535YXMA', '222O6QA', '272R9UA', '854FD0A', '212JQDA', '1475XKNA', '533O53A', '1505Y9WA', '433BZ5A', '573RFSA', '1706J5TC', '1104PSJA', '924I6JB', '603RW6A', '864FDWA', '513JB9J', '1576BXAC', '182FT3A', '1716J6GB', '563RFJA', '1134QDHA', '1164R6FA', '71P9AG', '723ZYJA', '192ID5A', '844FCGA', '322XOTA', '162CA6A', '302V9TB', '61OZNA', '81PGVA', '262Q4GW', '91W8AA', '1626FG7A', '1465XJOA', '543O6NA', '252P1MB', '1485XWUB', '1435LFNA', '774BV4R', '1616F4JA', '1004NKGA', '1184RCAB', '1234U09A', '142ASTB', '1415JH5A', '1666G3WA', '01A9NA', '1154R58A', '1094PQ8A', '1445MX0A', '1224U08A', '1304Z5WA', '703WPEA', '964L3FA', '1314Z63A', '463E6JA', '1425KZSA', '523M19A', '1696IF5A', '934IM6A', '282RA8A', '1656FNWA', '944K5UA', '1395IRNA', '1586BXEA', '744ARNA', '1566BRPB', '1736MLXA', '483G39A', '312WFHA', '1034P8SA', '1114Q3IA', '152BNHA', '131ZIWA', '713ZYIA']\n"
     ]
    }
   ],
   "source": [
    "filenames = get_files_with_ext(pdb_dir, '.pdb') # retrieve list of filenames\n",
    "protlist = [os.path.splitext(file)[0] for file in filenames] # give each protein a unique identifier\n",
    "print('Protein identifiers:\\n\\n', protlist)"
   ]
  },
  {
   "cell_type": "code",
   "execution_count": 7,
   "id": "71f25eb0-2d89-4713-9c06-e3db76835544",
   "metadata": {
    "tags": []
   },
   "outputs": [
    {
     "data": {
      "text/plain": [
       "'/Users/amc/git/Boyan/lrr-annot/lrrpredictor_pdbs/'"
      ]
     },
     "execution_count": 7,
     "metadata": {},
     "output_type": "execute_result"
    }
   ],
   "source": [
    "pdb_dir"
   ]
  },
  {
   "cell_type": "markdown",
   "id": "02cd2b8e-0dbd-41c7-b5eb-37ae8f6ebbde",
   "metadata": {},
   "source": [
    "## Caching and Plotting\n",
    "\n",
    "Select a directory for caching the analysis data, if you'd like not to recompute all the analyses. Then, select a directory to save plots. "
   ]
  },
  {
   "cell_type": "code",
   "execution_count": 8,
   "id": "e7144fe5-dfc3-4f51-bd40-486df60c7d71",
   "metadata": {},
   "outputs": [
    {
     "name": "stdout",
     "output_type": "stream",
     "text": [
      "Choose directory to cache analyses:\n"
     ]
    },
    {
     "data": {
      "application/vnd.jupyter.widget-view+json": {
       "model_id": "174d5bcb0e8e4e7793deb3a3114ad1d3",
       "version_major": 2,
       "version_minor": 0
      },
      "text/plain": [
       "FileChooser(path='/Users/amc/Desktop/final', filename='', title='', show_hidden=False, select_desc='Select', c…"
      ]
     },
     "metadata": {},
     "output_type": "display_data"
    }
   ],
   "source": [
    "cache_dir = None\n",
    "fc2 = FileChooser('') # another file chooser widget \n",
    "print('Choose directory to cache analyses:')\n",
    "display(fc2)"
   ]
  },
  {
   "cell_type": "code",
   "execution_count": 9,
   "id": "1bb27d1c-263c-4af4-866c-6e8b20d5f80b",
   "metadata": {
    "tags": []
   },
   "outputs": [
    {
     "data": {
      "text/plain": [
       "'/Users/amc/Desktop/final/cache/'"
      ]
     },
     "execution_count": 9,
     "metadata": {},
     "output_type": "execute_result"
    }
   ],
   "source": [
    "cache_dir = fc2.value\n",
    "cache_dir"
   ]
  },
  {
   "cell_type": "code",
   "execution_count": 10,
   "id": "981f9756-3020-421b-b689-8e24e1ba8dbe",
   "metadata": {
    "tags": []
   },
   "outputs": [
    {
     "name": "stdout",
     "output_type": "stream",
     "text": [
      "Choose directory to save plots:\n"
     ]
    },
    {
     "data": {
      "application/vnd.jupyter.widget-view+json": {
       "model_id": "aad673bbd1ee47b8aa6986bd4ff508ae",
       "version_major": 2,
       "version_minor": 0
      },
      "text/plain": [
       "FileChooser(path='/Users/amc/Desktop/final', filename='', title='', show_hidden=False, select_desc='Select', c…"
      ]
     },
     "metadata": {},
     "output_type": "display_data"
    }
   ],
   "source": [
    "plot_dir = None\n",
    "fc3 = FileChooser('') # another file chooser widget \n",
    "print('Choose directory to save plots:')\n",
    "display(fc3)"
   ]
  },
  {
   "cell_type": "code",
   "execution_count": 11,
   "id": "4d87e9b0-174d-41c8-bbc6-348d8b8ae02e",
   "metadata": {
    "tags": []
   },
   "outputs": [
    {
     "data": {
      "text/plain": [
       "'/Users/amc/Desktop/final/plots/'"
      ]
     },
     "execution_count": 11,
     "metadata": {},
     "output_type": "execute_result"
    }
   ],
   "source": [
    "plot_dir = fc3.value\n",
    "plot_dir"
   ]
  },
  {
   "cell_type": "code",
   "execution_count": 12,
   "id": "6eab4b0f-5a99-4be6-9d81-0af4132a3cae",
   "metadata": {},
   "outputs": [
    {
     "name": "stderr",
     "output_type": "stream",
     "text": [
      " 41%|█████████████████████████████████▋                                                | 73/178 [00:49<01:10,  1.48it/s]\n"
     ]
    },
    {
     "ename": "ValueError",
     "evalue": "min() arg is an empty sequence",
     "output_type": "error",
     "traceback": [
      "\u001b[0;31m---------------------------------------------------------------------------\u001b[0m",
      "\u001b[0;31mValueError\u001b[0m                                Traceback (most recent call last)",
      "Cell \u001b[0;32mIn[12], line 13\u001b[0m\n\u001b[1;32m     11\u001b[0m \u001b[38;5;28;01mfor\u001b[39;00m protid \u001b[38;5;129;01min\u001b[39;00m tqdm(protlist):\n\u001b[1;32m     12\u001b[0m     preX \u001b[38;5;241m=\u001b[39m get_backbone_from_pdb(\u001b[38;5;124mf\u001b[39m\u001b[38;5;124m'\u001b[39m\u001b[38;5;132;01m{\u001b[39;00mpdb_dir\u001b[38;5;132;01m}\u001b[39;00m\u001b[38;5;132;01m{\u001b[39;00mprotid\u001b[38;5;132;01m}\u001b[39;00m\u001b[38;5;124m.pdb\u001b[39m\u001b[38;5;124m'\u001b[39m)\n\u001b[0;32m---> 13\u001b[0m     winding, m, parameters \u001b[38;5;241m=\u001b[39m \u001b[43mget_regression\u001b[49m\u001b[43m(\u001b[49m\u001b[43mpreX\u001b[49m\u001b[43m)\u001b[49m\n\u001b[1;32m     14\u001b[0m     regression_d[protid] \u001b[38;5;241m=\u001b[39m (winding, m, parameters)\n\u001b[1;32m     16\u001b[0m     stddev \u001b[38;5;241m=\u001b[39m plot_regression(winding, parameters, m, save \u001b[38;5;241m=\u001b[39m \u001b[38;5;28;01mTrue\u001b[39;00m, filename \u001b[38;5;241m=\u001b[39m \u001b[38;5;124mf\u001b[39m\u001b[38;5;124m'\u001b[39m\u001b[38;5;132;01m{\u001b[39;00mplot_dir\u001b[38;5;132;01m}\u001b[39;00m\u001b[38;5;132;01m{\u001b[39;00mprotid\u001b[38;5;132;01m}\u001b[39;00m\u001b[38;5;124m'\u001b[39m)\n",
      "File \u001b[0;32m~/Desktop/final/methods.py:164\u001b[0m, in \u001b[0;36mget_regression\u001b[0;34m(preX)\u001b[0m\n\u001b[1;32m    162\u001b[0m prev_grad \u001b[38;5;241m=\u001b[39m np\u001b[38;5;241m.\u001b[39marray(gradient)\n\u001b[1;32m    163\u001b[0m thresh \u001b[38;5;241m=\u001b[39m \u001b[38;5;241m.3\u001b[39m\n\u001b[0;32m--> 164\u001b[0m m, scores \u001b[38;5;241m=\u001b[39m \u001b[43mmedian_slope\u001b[49m\u001b[43m(\u001b[49m\u001b[43mwinding\u001b[49m\u001b[43m,\u001b[49m\u001b[43m \u001b[49m\u001b[38;5;241;43m150\u001b[39;49m\u001b[43m,\u001b[49m\u001b[43m \u001b[49m\u001b[38;5;241;43m250\u001b[39;49m\u001b[43m)\u001b[49m\n\u001b[1;32m    165\u001b[0m \u001b[38;5;28;01mfor\u001b[39;00m i \u001b[38;5;129;01min\u001b[39;00m \u001b[38;5;28mrange\u001b[39m(\u001b[38;5;241m10000\u001b[39m):\n\u001b[1;32m    166\u001b[0m     present \u001b[38;5;241m=\u001b[39m loss(winding, parameters, m, penalties)\n",
      "File \u001b[0;32m~/Desktop/final/methods.py:120\u001b[0m, in \u001b[0;36mmedian_slope\u001b[0;34m(data, small, big)\u001b[0m\n\u001b[1;32m    118\u001b[0m n_bins \u001b[38;5;241m=\u001b[39m \u001b[38;5;28mint\u001b[39m(np\u001b[38;5;241m.\u001b[39msqrt(\u001b[38;5;28mlen\u001b[39m(slopes)))\n\u001b[1;32m    119\u001b[0m scores \u001b[38;5;241m=\u001b[39m [\u001b[38;5;241m0\u001b[39m \u001b[38;5;28;01mfor\u001b[39;00m i \u001b[38;5;129;01min\u001b[39;00m \u001b[38;5;28mrange\u001b[39m(n_bins)]\n\u001b[0;32m--> 120\u001b[0m a \u001b[38;5;241m=\u001b[39m \u001b[38;5;28;43mmin\u001b[39;49m\u001b[43m(\u001b[49m\u001b[43mslopes\u001b[49m\u001b[43m)\u001b[49m\n\u001b[1;32m    121\u001b[0m b \u001b[38;5;241m=\u001b[39m \u001b[38;5;28mmax\u001b[39m(slopes) \u001b[38;5;241m+\u001b[39m \u001b[38;5;241m0.01\u001b[39m\n\u001b[1;32m    122\u001b[0m \u001b[38;5;66;03m# print(a, b, n_bins)\u001b[39;00m\n\u001b[1;32m    123\u001b[0m \n\u001b[1;32m    124\u001b[0m \u001b[38;5;66;03m# bin_vals = np.arange(a, b, (b - a) / n_bins)\u001b[39;00m\n\u001b[1;32m    125\u001b[0m \u001b[38;5;66;03m# assert len(bin_vals) == len(scores)\u001b[39;00m\n",
      "\u001b[0;31mValueError\u001b[0m: min() arg is an empty sequence"
     ]
    }
   ],
   "source": [
    "from tqdm import tqdm\n",
    "import pickle\n",
    "\n",
    "# if there is cached\n",
    "if cache_dir is None:\n",
    "    pass\n",
    "else:\n",
    "    cutoff_d = {}\n",
    "    std_d = {}\n",
    "    regression_d = {}\n",
    "    for protid in tqdm(protlist):\n",
    "        preX = get_backbone_from_pdb(f'{pdb_dir}{protid}.pdb')\n",
    "        winding, m, parameters = get_regression(preX)\n",
    "        regression_d[protid] = (winding, m, parameters)\n",
    "        \n",
    "        stddev = plot_regression(winding, parameters, m, save = True, filename = f'{plot_dir}{protid}')\n",
    "        std_d[protid] = stddev\n",
    "        cutoff_d[protid] = tuple(parameters.astype('int'))\n",
    "    with open(f'{cache_dir}cutoff_d.pickle', 'wb') as handle:\n",
    "        pickle.dump(cutoff_d, handle)\n",
    "    with open(f'{cache_dir}std_d.pickle', 'wb') as handle:\n",
    "        pickle.dump(std_d, handle)\n",
    "    with open(f'{cache_dir}regression_d.pickle', 'wb') as handle:\n",
    "        pickle.dump(regression_d, handle)"
   ]
  },
  {
   "cell_type": "code",
   "execution_count": 15,
   "id": "2b344ee3-c54e-4b2a-8eb3-e6625ce39ca6",
   "metadata": {
    "tags": []
   },
   "outputs": [
    {
     "ename": "NameError",
     "evalue": "name 'slopes' is not defined",
     "output_type": "error",
     "traceback": [
      "\u001b[0;31m---------------------------------------------------------------------------\u001b[0m",
      "\u001b[0;31mNameError\u001b[0m                                 Traceback (most recent call last)",
      "Cell \u001b[0;32mIn[15], line 1\u001b[0m\n\u001b[0;32m----> 1\u001b[0m \u001b[43mslopes\u001b[49m\n",
      "\u001b[0;31mNameError\u001b[0m: name 'slopes' is not defined"
     ]
    }
   ],
   "source": [
    "slopes"
   ]
  },
  {
   "cell_type": "markdown",
   "id": "4f61c56b-3ae4-42d2-ad04-4e18f901f9d7",
   "metadata": {},
   "source": [
    "## Generating plots from cached data"
   ]
  },
  {
   "cell_type": "code",
   "execution_count": 23,
   "id": "8b31bf72-f721-44c1-a352-d9b92071b11f",
   "metadata": {
    "tags": []
   },
   "outputs": [],
   "source": [
    "cutoff_d = {}\n",
    "std_d = {}\n",
    "regression_d = {}"
   ]
  },
  {
   "cell_type": "code",
   "execution_count": 22,
   "id": "957dc7da-2cc7-4a37-af37-f121af431b86",
   "metadata": {
    "tags": []
   },
   "outputs": [
    {
     "data": {
      "application/vnd.jupyter.widget-view+json": {
       "model_id": "9c42180219834519b49bd0959ac0b3f0",
       "version_major": 2,
       "version_minor": 0
      },
      "text/plain": [
       "Button(description='Analyze', style=ButtonStyle(), tooltip='Analyze the proteins in the selected folder.')"
      ]
     },
     "metadata": {},
     "output_type": "display_data"
    }
   ],
   "source": [
    "def analyze(*args, **kwargs):\n",
    "    if cache_dir is None:\n",
    "        for protid in tqdm(protlist):\n",
    "            preX = get_backbone_from_pdb(f'{pdb_dir}{protid}.pdb')\n",
    "            winding, m, parameters = get_regression(preX)\n",
    "            regression_d[protid] = (winding, m, parameters)\n",
    "    else:\n",
    "        with open(f'{cache_dir}cutoff_d.pickle', 'wb') as handle:\n",
    "            pickle.dump(cutoff_d, handle)\n",
    "        with open(f'{cache_dir}std_d.pickle', 'wb') as handle:\n",
    "            pickle.dump(std_d, handle)\n",
    "        with open(f'{cache_dir}regression_d.pickle', 'wb') as handle:\n",
    "            pickle.dump(regression_d, handle)\n",
    "\n",
    "def make_plots(*args, **kwargs):\n",
    "    for protid, (winding, parameters, m) in regression_d:\n",
    "        stddev = plot_regression(winding, parameters, m, save = True, filename = f'{plot_dir}{protid}')\n",
    "        std_d[protid] = stddev\n",
    "        cutoff_d[protid] = tuple(parameters.astype('int'))\n",
    "            \n",
    "if not cache_dir is None:\n",
    "    cache_button = widgets.Button(\n",
    "        description = 'Load cached analysis',\n",
    "        disabled = False,\n",
    "        button_style = '', # 'success', 'info', 'warning', 'danger' or ''\n",
    "        tooltip = 'Load dictionaries from cache.'\n",
    "    )\n",
    "    \n",
    "    cache_button.on_click(load_from_cache)\n",
    "    display(cache_button)\n",
    "            \n",
    "analyze_button = widgets.Button(\n",
    "    description = 'Analyze' if cache_dir is None else 'Analyze and cache',\n",
    "    disabled = False,\n",
    "    button_style = '', # 'success', 'info', 'warning', 'danger' or ''\n",
    "    tooltip = 'Analyze the proteins in the selected folder.'\n",
    ")\n",
    "\n",
    "analyze_button.on_click(analyze)\n",
    "display(analyze_button)\n"
   ]
  },
  {
   "cell_type": "code",
   "execution_count": null,
   "id": "e55fb949-56fb-49d8-90b1-7e6360ba23c1",
   "metadata": {},
   "outputs": [],
   "source": []
  },
  {
   "cell_type": "code",
   "execution_count": 71,
   "id": "f8fa8cb2-da04-4f4b-ab96-7f2ddf8d24c9",
   "metadata": {
    "tags": []
   },
   "outputs": [],
   "source": [
    "def analyze(protlist):\n",
    "    cutoff_d = {}\n",
    "    std_d = {}\n",
    "    for protid in protlist:\n",
    "        preX = get_backbone_from_pdb(f'pdb/{protid}.pdb')\n",
    "        winding, m, parameters = get_regression(preX)\n",
    "        with warnings.catch_warnings():\n",
    "            warnings.simplefilter(\"ignore\", category=RuntimeWarning)\n",
    "            stddev = plot_regression(winding, parameters, m, save = True, filename = f'plot/regression/{protid}')\n",
    "            std_d[protid] = stddev\n",
    "            cutoff_d[protid] = tuple(parameters.astype('int'))\n",
    "            \n",
    "    if not cache_dir is None:\n",
    "        with open('pickles/cutoff_d.pickle', 'wb') as handle:\n",
    "            pickle.dump(cutoff_d, handle)\n",
    "        with open('pickles/std_d.pickle', 'wb') as handle:\n",
    "            pickle.dump(std_d, handle)\n",
    "            \n",
    "    return cuttof_d, std_d\n",
    "\n",
    "def test(*args, **kwargs):\n",
    "    print(args, kwargs)\n",
    "    return 0\n",
    "\n"
   ]
  },
  {
   "cell_type": "code",
   "execution_count": 44,
   "id": "e13e8aee-9df9-4e61-9a31-5104756c4d31",
   "metadata": {
    "tags": []
   },
   "outputs": [],
   "source": []
  },
  {
   "cell_type": "code",
   "execution_count": 46,
   "id": "81f63f3b-b9f4-4369-80b4-5e4bec84f718",
   "metadata": {},
   "outputs": [],
   "source": [
    "x"
   ]
  },
  {
   "cell_type": "code",
   "execution_count": null,
   "id": "47163e9c-4078-43e0-9337-70cf18a80d07",
   "metadata": {},
   "outputs": [],
   "source": []
  }
 ],
 "metadata": {
  "kernelspec": {
   "display_name": "Python 3 (ipykernel)",
   "language": "python",
   "name": "python3"
  },
  "language_info": {
   "codemirror_mode": {
    "name": "ipython",
    "version": 3
   },
   "file_extension": ".py",
   "mimetype": "text/x-python",
   "name": "python",
   "nbconvert_exporter": "python",
   "pygments_lexer": "ipython3",
   "version": "3.10.9"
  }
 },
 "nbformat": 4,
 "nbformat_minor": 5
}
