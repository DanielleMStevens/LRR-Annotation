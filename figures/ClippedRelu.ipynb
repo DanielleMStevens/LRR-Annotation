{
 "cells": [
  {
   "cell_type": "markdown",
   "id": "dff889ac-bd80-4a76-9d17-d6510e0185f1",
   "metadata": {},
   "source": [
    "## Clipped Relu\n",
    "\n",
    "Notebook to make different subplots for the figure illustrating the basic clipped relu"
   ]
  },
  {
   "cell_type": "code",
   "execution_count": null,
   "id": "4061317e-10cb-4d41-b9df-151edea90411",
   "metadata": {},
   "outputs": [],
   "source": [
    "%load_ext autoreload\n",
    "%autoreload 2\n",
    "import numpy as np\n",
    "import matplotlib.pyplot as plt\n",
    "import matplotlib.patches as patches\n",
    "from mayavi import mlab\n",
    "from mpl_toolkits.mplot3d import Axes3D\n",
    "from scipy.interpolate import CubicSpline\n",
    "from lrr_annot.loader import Loader\n",
    "from lrr_annot.analyzer import compute_winding, compute_regression, median_slope\n",
    "from lrr_annot.plotter import plot_regression"
   ]
  },
  {
   "cell_type": "markdown",
   "id": "bc6112d0-92ae-4f31-977a-34bb3776cbe7",
   "metadata": {},
   "source": [
    "## Load in sequence, compute winding number, and compute breakpoints"
   ]
  },
  {
   "cell_type": "code",
   "execution_count": null,
   "id": "9ad77bf2-0146-4e78-a9f2-b91d7db0d797",
   "metadata": {},
   "outputs": [],
   "source": [
    "#protid = \"AT1G72840.2\"\n",
    "protid = \"AT3G44400.1\"\n",
    "loader = Loader()\n",
    "loader.load_single(\"../pdb\", f\"{protid}.pdb\")\n",
    "X = loader.structures[protid]\n",
    "winding_res = compute_winding(X)\n",
    "winding = winding_res[\"winding\"]\n",
    "\n",
    "regression_res = compute_regression(winding, n_breakpoints=2)\n",
    "breakpoints = regression_res[\"breakpoints\"]\n",
    "slope = regression_res[\"slope\"]"
   ]
  },
  {
   "cell_type": "markdown",
   "id": "9506c7e8-e6a7-4373-ab7a-0acc7a5a8ada",
   "metadata": {},
   "source": [
    "## Plots showing piecewise linear regression and interpro annotations"
   ]
  },
  {
   "cell_type": "code",
   "execution_count": null,
   "id": "dfe91e9e-8720-4dd3-b824-5e0eea2dcdfe",
   "metadata": {},
   "outputs": [],
   "source": [
    "plt.figure(figsize=(6, 4))\n",
    "plot_regression(plt.gca(), winding, breakpoints, slope)\n",
    "\n",
    "\n",
    "N = winding.size\n",
    "\n",
    "# Define the domains\n",
    "domains = [(46, 210), (231, 445), (611, 859)]\n",
    "colors = ['orange', 'red', 'C2']\n",
    "texts = [\"TIR\", \"NB-ARC\", \"LRR\"]\n",
    "# Draw the domains\n",
    "rectheight = 1\n",
    "for domain, color, text in zip(domains, colors, texts):\n",
    "    start, end = domain\n",
    "    rect = patches.Rectangle((start, -rectheight*2), end - start, rectheight, facecolor=color)\n",
    "    plt.gca().add_patch(rect)\n",
    "    plt.text(start+(end-start)/len(text), -rectheight*1.8, text)\n",
    "plt.plot([0, N], [0]*2, color='k', linewidth=1)\n",
    "\n",
    "xticks = list(range(0, 1001, 200)) + breakpoints.tolist()\n",
    "plt.xticks(xticks);\n",
    "plt.yticks([0, 5, 10, 15, 20]);\n",
    "plt.savefig(\"ClippedRelu_Plot.svg\", bbox_inches='tight')"
   ]
  },
  {
   "cell_type": "markdown",
   "id": "f4154188-cbca-456e-a8e6-d54d22aa9cb0",
   "metadata": {},
   "source": [
    "## Make Plot of Annotated Regions in 3D"
   ]
  },
  {
   "cell_type": "code",
   "execution_count": null,
   "id": "f65b826f-3ff9-4e96-9961-4dde956ab2d2",
   "metadata": {},
   "outputs": [],
   "source": [
    "prop_cycle = plt.rcParams['axes.prop_cycle']\n",
    "colors = prop_cycle.by_key()['color']\n",
    "print(colors)"
   ]
  },
  {
   "cell_type": "code",
   "execution_count": null,
   "id": "582ecc4d-bf2a-4eb3-8b70-c77563194335",
   "metadata": {},
   "outputs": [],
   "source": [
    "from mayavi import mlab\n",
    "\n",
    "loader = Loader()\n",
    "loader.load_single(\"../pdb\", f\"{protid}.pdb\")\n",
    "\n",
    "fac = 10 # Interpolation factor\n",
    "X = loader.structures[protid]\n",
    "spline = CubicSpline(np.linspace(0, 1, X.shape[0]), X, axis=0)\n",
    "t = np.linspace(0, 1, fac*X.shape[0])\n",
    "X = spline(t)\n",
    "\n",
    "mol_plot = mlab.plot3d(X[:, 0], X[:, 1], X[:, 2], np.arange(X.shape[0]), colormap='magma', tube_radius=0.5, representation='surface')\n",
    "\n",
    "scene = mlab.gcf().scene\n",
    "scene.parallel_projection = True\n",
    "scene.background = (1, 1, 1)\n",
    "#mlab.savefig(\"out.png\", size=(1000, 1000))\n",
    "mlab.show()\n",
    "\n",
    "\n"
   ]
  },
  {
   "cell_type": "code",
   "execution_count": null,
   "id": "13618998-b6eb-4e73-a187-94badb730f2f",
   "metadata": {},
   "outputs": [],
   "source": []
  }
 ],
 "metadata": {
  "kernelspec": {
   "display_name": "Python 3 (ipykernel)",
   "language": "python",
   "name": "python3"
  },
  "language_info": {
   "codemirror_mode": {
    "name": "ipython",
    "version": 3
   },
   "file_extension": ".py",
   "mimetype": "text/x-python",
   "name": "python",
   "nbconvert_exporter": "python",
   "pygments_lexer": "ipython3",
   "version": "3.11.8"
  }
 },
 "nbformat": 4,
 "nbformat_minor": 5
}
