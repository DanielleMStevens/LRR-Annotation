{
 "cells": [
  {
   "cell_type": "markdown",
   "id": "dff889ac-bd80-4a76-9d17-d6510e0185f1",
   "metadata": {},
   "source": [
    "## Winding number\n",
    "\n",
    "Notebook to make different subplots for the winding number block diagram"
   ]
  },
  {
   "cell_type": "code",
   "execution_count": 2,
   "id": "4061317e-10cb-4d41-b9df-151edea90411",
   "metadata": {},
   "outputs": [
    {
     "name": "stdout",
     "output_type": "stream",
     "text": [
      "The autoreload extension is already loaded. To reload it, use:\n",
      "  %reload_ext autoreload\n"
     ]
    }
   ],
   "source": [
    "%load_ext autoreload\n",
    "%autoreload 2\n",
    "\n",
    "import sys\n",
    "import os\n",
    "current_directory = os.getcwd()\n",
    "sys.path.append(os.path.abspath(os.path.join(current_directory, os.pardir)))\n",
    "\n",
    "import numpy as np\n",
    "import matplotlib.pyplot as plt\n",
    "from mayavi import mlab\n",
    "from mpl_toolkits.mplot3d import Axes3D\n",
    "from scipy.interpolate import CubicSpline\n",
    "from lrr_annot.loader import Loader\n",
    "from lrr_annot.analyzer import compute_winding, compute_regression, median_slope\n",
    "from lrr_annot.plotter import plot_regression"
   ]
  },
  {
   "cell_type": "markdown",
   "id": "bc6112d0-92ae-4f31-977a-34bb3776cbe7",
   "metadata": {},
   "source": [
    "## Load in sequence, compute winding number, and compute breakpoints"
   ]
  },
  {
   "cell_type": "code",
   "execution_count": 2,
   "id": "9ad77bf2-0146-4e78-a9f2-b91d7db0d797",
   "metadata": {},
   "outputs": [],
   "source": [
    "#protid = \"AT1G72840.2\"\n",
    "protid = \"AT3G44400.1\"\n",
    "loader = Loader()\n",
    "loader.load_single(\"../pdb\", f\"{protid}.pdb\")\n",
    "X = loader.structures[protid]\n",
    "winding_res = compute_winding(X)\n",
    "winding = winding_res[\"winding\"]\n",
    "\n",
    "regression_res = compute_regression(winding, n_breakpoints=2)\n",
    "breakpoints = regression_res[\"breakpoints\"]"
   ]
  },
  {
   "cell_type": "markdown",
   "id": "f4154188-cbca-456e-a8e6-d54d22aa9cb0",
   "metadata": {},
   "source": [
    "## Make Plot of Frame in 3D"
   ]
  },
  {
   "cell_type": "code",
   "execution_count": 3,
   "id": "582ecc4d-bf2a-4eb3-8b70-c77563194335",
   "metadata": {},
   "outputs": [],
   "source": [
    "cyan = (0.322, 0.686, 0.663)\n",
    "yellow = (0.867, 0.847, 0.471)\n",
    "red1 = (0.561, 0.208, 0.173)\n",
    "purple = (0.476, 0.192, 0.475)\n",
    "green1 = (0.69, 0.875, 0.667)\n",
    "green2 = (0.016, 0.439, 0.18)\n",
    "\n",
    "from mayavi import mlab\n",
    "\n",
    "loader = Loader()\n",
    "loader.load_single(\"../pdb\", f\"{protid}.pdb\")\n",
    "\n",
    "fac = 10 # Interpolation factor\n",
    "X = loader.structures[protid]\n",
    "spline = CubicSpline(np.linspace(0, 1, X.shape[0]), X, axis=0)\n",
    "t = np.linspace(0, 1, fac*X.shape[0])\n",
    "X = spline(t)\n",
    "\n",
    "mol_plot = mlab.plot3d(X[:, 0], X[:, 1], X[:, 2], np.arange(X.shape[0]), colormap='magma', tube_radius=0.5, representation='surface')\n",
    "B = winding_res[\"backbone\"]\n",
    "N = winding_res[\"normal_bundle\"]\n",
    "offset = 5\n",
    "B1 = B + offset*N[:, 0, :]\n",
    "B2 = B + offset*N[:, 1, :]\n",
    "\n",
    "backbone_plot = mlab.plot3d(B[:, 0], B[:, 1], B[:, 2], color=cyan, tube_radius=0.3, representation='surface')\n",
    "mlab.plot3d(B1[:, 0], B1[:, 1], B1[:, 2], color=green1, tube_radius=0.3, representation='surface')\n",
    "mlab.plot3d(B2[:, 0], B2[:, 1], B2[:, 2], color=green2, tube_radius=0.3, representation='surface')\n",
    "\n",
    "scene = mlab.gcf().scene\n",
    "scene.parallel_projection = True\n",
    "scene.background = (1, 1, 1)\n",
    "#mlab.savefig(\"out.png\", size=(1000, 1000))\n",
    "mlab.show()\n",
    "\n",
    "\n"
   ]
  },
  {
   "cell_type": "markdown",
   "id": "dfe9e3dc-632f-480e-b003-624ac60f636d",
   "metadata": {},
   "source": [
    "## Straightened Helix"
   ]
  },
  {
   "cell_type": "code",
   "execution_count": null,
   "id": "b208fe41-a29d-4a12-baef-57c32eeddb65",
   "metadata": {},
   "outputs": [],
   "source": [
    "F = winding_res[\"flattened\"]\n",
    "F = np.zeros((F.shape[0], 3))\n",
    "F[:, 0:2] = winding_res[\"flattened\"]\n",
    "F[:, 2] = np.linspace(0, 100, F.shape[0])\n",
    "spline = CubicSpline(np.linspace(0, 1, F.shape[0]), F, axis=0)\n",
    "fac = 10\n",
    "t = np.linspace(0, 1, fac*F.shape[0])\n",
    "F = spline(t)\n",
    "\n",
    "mol_plot = mlab.plot3d(F[:, 0], F[:, 1], F[:, 2], np.arange(F.shape[0]), colormap='magma', tube_radius=0.5, representation='surface')\n",
    "offset = 5\n",
    "F[:, 0:2] = 0\n",
    "mlab.plot3d(F[:, 0], F[:, 1], F[:, 2], color=cyan, tube_radius=0.3, representation='surface')\n",
    "F[:, 0] = offset\n",
    "mlab.plot3d(F[:, 0], F[:, 1], F[:, 2], color=green1, tube_radius=0.3, representation='surface')\n",
    "F[:, 0] = 0\n",
    "F[:, 1] = offset\n",
    "mlab.plot3d(F[:, 0], F[:, 1], F[:, 2], color=green2, tube_radius=0.3, representation='surface')\n",
    "\n",
    "#backbone_plot = mlab.plot3d(B[:, 0], B[:, 1], B[:, 2], color=cyan, tube_radius=0.3, representation='surface')\n",
    "#mlab.plot3d(B1[:, 0], B1[:, 1], B1[:, 2], color=green1, tube_radius=0.3, representation='surface')\n",
    "#mlab.plot3d(B2[:, 0], B2[:, 1], B2[:, 2], color=green2, tube_radius=0.3, representation='surface')\n",
    "\n",
    "scene = mlab.gcf().scene\n",
    "scene.parallel_projection = True\n",
    "scene.background = (1, 1, 1)\n",
    "#mlab.savefig(\"out.png\", size=(1000, 1000))\n",
    "mlab.show()\n",
    "\n",
    "\n"
   ]
  },
  {
   "cell_type": "markdown",
   "id": "4d86c728-df16-4de3-a168-f31a8bcb9782",
   "metadata": {},
   "source": [
    "## Make plot showing winding number and flattened projection"
   ]
  },
  {
   "cell_type": "code",
   "execution_count": null,
   "id": "7edd5dc5-e786-4db8-82cb-93ae8ec2e679",
   "metadata": {},
   "outputs": [],
   "source": [
    "F = winding_res[\"flattened\"]\n",
    "interval = [breakpoints[0]+80, breakpoints[1]-30]\n",
    "rg = np.arange(*interval)\n",
    "\n",
    "lut = mol_plot.module_manager.scalar_lut_manager.lut.table.to_array().astype(float)/255\n",
    "spline = CubicSpline(np.arange(lut.shape[0]), lut, axis=0)\n",
    "t = np.linspace(0, 255, F.shape[0])\n",
    "\n",
    "fac = 0.8\n",
    "plt.figure(figsize=(fac*11, fac*4))\n",
    "plt.subplot(121)\n",
    "plt.plot(winding)\n",
    "plt.xlabel(\"Residue number\")\n",
    "plt.ylabel(\"Winding number\")\n",
    "plt.title(\"Cumulative Winding Number Graph\")\n",
    "plt.scatter(np.arange(F.shape[0]), np.zeros(F.shape[0]), c=np.clip(spline(t), 0, 1))\n",
    "for b in interval:\n",
    "    plt.axvline(b, linestyle='--', c='k')\n",
    "\n",
    "plt.subplot(122)\n",
    "colors = spline(t[rg])\n",
    "#plt.scatter(F[rg, 0], F[rg, 1], c=colors)\n",
    "for i, c in zip(rg, colors):\n",
    "    plt.plot(F[i:i+2, 0], F[i:i+2, 1], c=c)\n",
    "plt.scatter(0, 0, c=cyan, s=100, zorder=200)\n",
    "offset = 10\n",
    "plt.arrow(0, 0, offset, 0, zorder=100, width=0.3, facecolor=green1, edgecolor=green1)\n",
    "plt.arrow(0, 0, 0, offset, zorder=100, width=0.3, facecolor=green2, edgecolor=green2)\n",
    "plt.axis(\"equal\")\n",
    "\n",
    "plt.axis(\"off\")\n",
    "plt.title(\"Flattened Representation\")\n",
    "plt.savefig(\"WindingNumber_Plots.svg\", bbox_inches='tight')"
   ]
  },
  {
   "cell_type": "code",
   "execution_count": null,
   "id": "afb60239-fffb-4bce-b92e-37da45bbc637",
   "metadata": {},
   "outputs": [],
   "source": []
  }
 ],
 "metadata": {
  "kernelspec": {
   "display_name": "Python 3 (ipykernel)",
   "language": "python",
   "name": "python3"
  },
  "language_info": {
   "codemirror_mode": {
    "name": "ipython",
    "version": 3
   },
   "file_extension": ".py",
   "mimetype": "text/x-python",
   "name": "python",
   "nbconvert_exporter": "python",
   "pygments_lexer": "ipython3",
   "version": "3.10.9"
  }
 },
 "nbformat": 4,
 "nbformat_minor": 5
}
