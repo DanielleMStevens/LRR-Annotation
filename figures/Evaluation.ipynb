{
 "cells": [
  {
   "cell_type": "code",
   "execution_count": 1,
   "id": "7bca87f2-f606-478f-9aaf-c920a77d1811",
   "metadata": {
    "tags": []
   },
   "outputs": [],
   "source": [
    "%load_ext autoreload\n",
    "%autoreload 2\n",
    "\n",
    "import sys\n",
    "import os\n",
    "current_directory = os.getcwd()\n",
    "sys.path.append(os.path.abspath(os.path.join(current_directory, os.pardir)))\n",
    "import glob\n",
    "                 \n",
    "import numpy as np\n",
    "from scipy import signal\n",
    "import pandas as pd\n",
    "import matplotlib.pyplot as plt\n",
    "import matplotlib.patches as patches\n",
    "from mayavi import mlab\n",
    "from mpl_toolkits.mplot3d import Axes3D\n",
    "from geom_lrr.loader import Loader\n",
    "from geom_lrr.analyzer import Analyzer, compute_lrr_discrepancy, compute_lrr_discrepancy_arithmetic \n",
    "from geom_lrr.analyzer import compute_laplacian_circular_coords, compute_lrr_winding_laplacian\n",
    "from geom_lrr.plotter import plot_regression, plot_residue_annotations_3d"
   ]
  },
  {
   "cell_type": "markdown",
   "id": "45aae559-5a1b-4a7c-80ab-c1ec915953c6",
   "metadata": {},
   "source": [
    "### Load in LRR-Predict results"
   ]
  },
  {
   "cell_type": "code",
   "execution_count": 2,
   "id": "b4b38b82-e009-4d30-a683-c5ad826426e8",
   "metadata": {
    "tags": []
   },
   "outputs": [],
   "source": [
    "res = pd.read_csv(\"../data/col-0-nlrome.csv\", sep=\"\\t\")\n",
    "labels = [s.split(\"Athaliana_\")[1] for s in res[\"annotation\"].values]\n",
    "starts = [int(s) for s in res[\"start\"].values]\n",
    "predictions = {}\n",
    "for l, s in zip(labels, starts):\n",
    "    l = l.replace(\"_\", \".\")\n",
    "    if not l in predictions:\n",
    "        predictions[l] = []\n",
    "    predictions[l].append(s)\n",
    "for l, p in predictions.items():\n",
    "    predictions[l] = np.sort(np.array(p, dtype=int))\n",
    "\n",
    "proteins = set([s.split(\"/\")[-1].split(\".pdb\")[0] for s in glob.glob(\"../data/a_thaliana_alpha/*\")])\n",
    "predictions = {key:value for key, value in predictions.items() if key in proteins}"
   ]
  },
  {
   "cell_type": "markdown",
   "id": "7431f15c-f26d-4987-b5cc-4bff8023c565",
   "metadata": {},
   "source": [
    "### Compute parallel transport-based winding number and RMS LRR Losses"
   ]
  },
  {
   "cell_type": "code",
   "execution_count": 3,
   "id": "81a7f7d3-08a8-41eb-b6e9-7ecc68057b01",
   "metadata": {
    "tags": []
   },
   "outputs": [
    {
     "name": "stderr",
     "output_type": "stream",
     "text": [
      "Loading PDBs: 100%|███████████████████████████| 127/127 [00:05<00:00, 22.03it/s]\n"
     ]
    }
   ],
   "source": [
    "loader = Loader()\n",
    "loader.load_batch(\"../data/a_thaliana_alpha\")"
   ]
  },
  {
   "cell_type": "code",
   "execution_count": 4,
   "id": "6e03f430-d4e7-4e11-916d-f62b0406fbf2",
   "metadata": {
    "tags": []
   },
   "outputs": [
    {
     "name": "stderr",
     "output_type": "stream",
     "text": [
      "Computing windings: 100%|█████████████████████| 127/127 [00:01<00:00, 77.02it/s]\n"
     ]
    }
   ],
   "source": [
    "analyzer = Analyzer()\n",
    "analyzer.load_structures(loader.structures)\n",
    "analyzer.compute_windings()"
   ]
  },
  {
   "cell_type": "code",
   "execution_count": 5,
   "id": "ffb1bdb4-5df9-4e09-92e7-7d6c88f8fea1",
   "metadata": {
    "tags": []
   },
   "outputs": [
    {
     "name": "stderr",
     "output_type": "stream",
     "text": [
      "Computing regressions: 100%|██████████████████| 127/127 [04:13<00:00,  1.99s/it]\n"
     ]
    }
   ],
   "source": [
    "analyzer.compute_regressions()"
   ]
  },
  {
   "cell_type": "code",
   "execution_count": 6,
   "id": "8b97c0d5-393b-4562-9179-b24742f3cfd8",
   "metadata": {
    "tags": []
   },
   "outputs": [
    {
     "name": "stdout",
     "output_type": "stream",
     "text": [
      "9 Proteins Have An RMS LRR Loss Exceeding 1\n"
     ]
    },
    {
     "data": {
      "image/png": "[encoded data removed]",
      "text/plain": [
       "<Figure size 800x400 with 1 Axes>"
      ]
     },
     "metadata": {},
     "output_type": "display_data"
    }
   ],
   "source": [
    "cutoff = 1\n",
    "stds = np.array(list(analyzer.stds.values()))\n",
    "plt.figure(figsize=(8, 4))\n",
    "plt.hist(stds, bins=np.linspace(0, 2.5, 100));\n",
    "plt.axvline(cutoff, linestyle='--', c='k')\n",
    "plt.xlabel(\"RMS LRR Loss\")\n",
    "plt.ylabel(\"Count\")\n",
    "plt.title(\"Determining when To Do Multi-Breakpoint Based on RMS LRR Loss\")\n",
    "plt.savefig(\"RMSLRRLossHist.svg\", bbox_inches='tight')\n",
    "print(\"{} Proteins Have An RMS LRR Loss Exceeding {}\".format(np.sum(stds > cutoff), cutoff))"
   ]
  },
  {
   "cell_type": "markdown",
   "id": "5fe80441-076e-434d-9f4c-a331a9880aa1",
   "metadata": {},
   "source": [
    "### Compute Discrepancies with LRR-Predict"
   ]
  },
  {
   "cell_type": "code",
   "execution_count": 7,
   "id": "bf38c284-e892-4934-bdbe-1343e5922da3",
   "metadata": {
    "tags": []
   },
   "outputs": [
    {
     "name": "stderr",
     "output_type": "stream",
     "text": [
      "Computing Laplacian windings: 100%|███████████| 127/127 [00:07<00:00, 17.80it/s]\n"
     ]
    }
   ],
   "source": [
    "analyzer.compute_lrr_windings_laplacian()"
   ]
  },
  {
   "cell_type": "code",
   "execution_count": 8,
   "id": "56a4cb65-b35c-4227-8090-7e76b35cf35b",
   "metadata": {
    "tags": []
   },
   "outputs": [],
   "source": [
    "proteins_list = list(proteins)\n",
    "discrepancies_parallel = np.zeros(len(proteins))\n",
    "discrepancies_laplace = np.zeros(len(proteins))\n",
    "for i, p in enumerate(proteins_list):\n",
    "    pred = predictions[p]\n",
    "    breakpoints = analyzer.breakpoints[p]\n",
    "    a = breakpoints[0]\n",
    "    b = breakpoints[-1]\n",
    "    discrepancies_parallel[i] = compute_lrr_discrepancy(analyzer.windings[p], pred, a, b)\n",
    "    discrepancies_laplace[i] = compute_lrr_discrepancy(analyzer.lwindings[p], pred, a, b)"
   ]
  },
  {
   "cell_type": "markdown",
   "id": "373a6b35-38af-4e7e-8efe-49308b0485ba",
   "metadata": {},
   "source": [
    "## Validation Set\n",
    "\n",
    "Compare results on validation set using parallel transport and Laplacian circular coordinates\n"
   ]
  },
  {
   "cell_type": "markdown",
   "id": "05e4b5b4-d376-4b63-b92c-9a3153263b96",
   "metadata": {},
   "source": [
    "### Load in validation set ground truth"
   ]
  },
  {
   "cell_type": "code",
   "execution_count": 9,
   "id": "7a147699-615c-4cd6-a33b-deddc64d4c00",
   "metadata": {
    "tags": []
   },
   "outputs": [],
   "source": [
    "ground_truth = {}\n",
    "for [p, t, seq] in pd.read_csv(\"../data/LRRPredictor_validation_groundTruth.csv\").values:\n",
    "    if t == \"LRR motifs\":\n",
    "        locs = []\n",
    "        for i, c in enumerate(seq):\n",
    "            if c != '-':\n",
    "                locs.append(i)\n",
    "        ground_truth[p] = np.array(locs, dtype=int)"
   ]
  },
  {
   "cell_type": "markdown",
   "id": "9745320a-07a8-44e8-8ca0-feb51619b14b",
   "metadata": {},
   "source": [
    "### Compute both types of winding numbers and RMS LRR Losses"
   ]
  },
  {
   "cell_type": "code",
   "execution_count": 10,
   "id": "96d468c9-955e-4dab-81cd-e97a1adc93f6",
   "metadata": {
    "tags": []
   },
   "outputs": [
    {
     "name": "stderr",
     "output_type": "stream",
     "text": [
      "Loading PDBs: 100%|███████████████████████████| 178/178 [00:02<00:00, 62.45it/s]\n",
      "Computing windings: 100%|████████████████████| 178/178 [00:00<00:00, 214.24it/s]\n",
      "Computing regressions: 100%|██████████████████| 178/178 [03:09<00:00,  1.07s/it]\n"
     ]
    }
   ],
   "source": [
    "loader = Loader()\n",
    "loader.load_batch(\"../data/validation_pdb\")\n",
    "analyzerv = Analyzer()\n",
    "analyzerv.load_structures(loader.structures)\n",
    "analyzerv.compute_windings()\n",
    "analyzerv.compute_regressions()\n"
   ]
  },
  {
   "cell_type": "code",
   "execution_count": 11,
   "id": "816d6e3d-297d-4ea1-b197-b43ac19c419f",
   "metadata": {
    "tags": []
   },
   "outputs": [
    {
     "name": "stderr",
     "output_type": "stream",
     "text": [
      "Computing Laplacian windings: 100%|███████████| 178/178 [00:05<00:00, 31.09it/s]\n"
     ]
    }
   ],
   "source": [
    "analyzerv.compute_lrr_windings_laplacian()"
   ]
  },
  {
   "cell_type": "code",
   "execution_count": 12,
   "id": "ec599e94-bd9f-4b21-b8a7-1c269c3813e0",
   "metadata": {
    "tags": []
   },
   "outputs": [
    {
     "name": "stdout",
     "output_type": "stream",
     "text": [
      "Did not find 4ECOA \n"
     ]
    },
    {
     "data": {
      "image/png": "[encoded data removed]",
      "text/plain": [
       "<Figure size 600x300 with 1 Axes>"
      ]
     },
     "metadata": {},
     "output_type": "display_data"
    }
   ],
   "source": [
    "import seaborn as sns\n",
    "\n",
    "proteins_list = list(ground_truth.keys())\n",
    "discrepancies_parallel_validation = np.zeros(len(proteins_list))\n",
    "discrepancies_laplace_validation = np.zeros(len(proteins_list))\n",
    "for i, p in enumerate(proteins_list):\n",
    "    gt = ground_truth[p]\n",
    "    found = False\n",
    "    for p2 in analyzerv.breakpoints.keys():\n",
    "        if p in p2:\n",
    "            p = p2\n",
    "            found = True\n",
    "    if found:\n",
    "        breakpoints = analyzerv.breakpoints[p]\n",
    "        a = breakpoints[0]\n",
    "        b = breakpoints[-1]\n",
    "        discrepancies_parallel_validation[i] = compute_lrr_discrepancy(analyzerv.windings[p], gt, a, b)\n",
    "        discrepancies_laplace_validation[i] = compute_lrr_discrepancy(analyzerv.lwindings[p], gt, a, b)\n",
    "    else:\n",
    "        print(\"Did not find\", p)\n",
    "\n",
    "bins = np.linspace(0, 2.5, 50)\n",
    "data = {\"Parallel Transport\\nValidation\":discrepancies_parallel_validation, \"Laplacian\\nValidation\":discrepancies_laplace_validation, \n",
    "        \"Parallel Transport\\nLRR Predict\":np.pad(discrepancies_parallel, (0, 178-127), 'constant', constant_values=(0, np.inf)),\n",
    "        \"Laplacian\\nLRR Predict\":np.pad(discrepancies_laplace, (0, 178-127), 'constant', constant_values=(0, np.inf))}\n",
    "plt.figure(figsize=(6, 3))\n",
    "sns.boxplot(pd.DataFrame(data=data))\n",
    "plt.title(\"Evaluation Discrepancies\")\n",
    "plt.yscale(\"log\")\n",
    "plt.ylabel(\"Discrepancy\")\n",
    "plt.savefig(\"Evaluation.svg\")"
   ]
  },
  {
   "cell_type": "code",
   "execution_count": null,
   "id": "2050f777-db6c-45e2-8f2e-a87d98f96abb",
   "metadata": {},
   "outputs": [],
   "source": []
  }
 ],
 "metadata": {
  "kernelspec": {
   "display_name": "Python 3 (ipykernel)",
   "language": "python",
   "name": "python3"
  },
  "language_info": {
   "codemirror_mode": {
    "name": "ipython",
    "version": 3
   },
   "file_extension": ".py",
   "mimetype": "text/x-python",
   "name": "python",
   "nbconvert_exporter": "python",
   "pygments_lexer": "ipython3",
   "version": "3.11.8"
  }
 },
 "nbformat": 4,
 "nbformat_minor": 5
}
