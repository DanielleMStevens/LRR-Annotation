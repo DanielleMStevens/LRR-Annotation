{
 "cells": [
  {
   "cell_type": "markdown",
   "id": "fcd97a55-e894-4c52-a3bc-d1a7b34e75c7",
   "metadata": {},
   "source": [
    "# Figure 2\n",
    "\n",
    "Placeholder for Figure 2 notebook."
   ]
  },
  {
   "cell_type": "code",
   "execution_count": null,
   "id": "968efdc3-b206-4b0c-9508-6a2a36e66934",
   "metadata": {},
   "outputs": [],
   "source": []
  }
 ],
 "metadata": {
  "kernelspec": {
   "display_name": "Python 3 (ipykernel)",
   "language": "python",
   "name": "python3"
  },
  "language_info": {
   "codemirror_mode": {
    "name": "ipython",
    "version": 3
   },
   "file_extension": ".py",
   "mimetype": "text/x-python",
   "name": "python",
   "nbconvert_exporter": "python",
   "pygments_lexer": "ipython3",
   "version": "3.10.9"
  }
 },
 "nbformat": 4,
 "nbformat_minor": 5
}
