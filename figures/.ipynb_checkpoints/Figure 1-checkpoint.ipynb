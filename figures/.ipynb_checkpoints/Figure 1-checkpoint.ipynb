{
 "cells": [
  {
   "cell_type": "markdown",
   "id": "dff889ac-bd80-4a76-9d17-d6510e0185f1",
   "metadata": {},
   "source": [
    "# Figure 1\n",
    "\n",
    "Placeholder for Figure 1 notebook."
   ]
  },
  {
   "cell_type": "code",
   "execution_count": null,
   "id": "4061317e-10cb-4d41-b9df-151edea90411",
   "metadata": {},
   "outputs": [],
   "source": []
  }
 ],
 "metadata": {
  "kernelspec": {
   "display_name": "Python 3 (ipykernel)",
   "language": "python",
   "name": "python3"
  },
  "language_info": {
   "codemirror_mode": {
    "name": "ipython",
    "version": 3
   },
   "file_extension": ".py",
   "mimetype": "text/x-python",
   "name": "python",
   "nbconvert_exporter": "python",
   "pygments_lexer": "ipython3",
   "version": "3.10.9"
  }
 },
 "nbformat": 4,
 "nbformat_minor": 5
}
