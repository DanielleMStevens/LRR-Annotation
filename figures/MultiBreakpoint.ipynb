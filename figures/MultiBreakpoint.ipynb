{
 "cells": [
  {
   "cell_type": "markdown",
   "id": "dff889ac-bd80-4a76-9d17-d6510e0185f1",
   "metadata": {},
   "source": [
    "## Multiple Breakpoints\n",
    "\n",
    "Notebook to make different subplots for the figure illustrating the basic clipped relu"
   ]
  },
  {
   "cell_type": "code",
   "execution_count": null,
   "id": "4061317e-10cb-4d41-b9df-151edea90411",
   "metadata": {},
   "outputs": [],
   "source": [
    "%load_ext autoreload\n",
    "%autoreload 2\n",
    "import numpy as np\n",
    "import matplotlib.pyplot as plt\n",
    "import matplotlib.patches as patches\n",
    "from mayavi import mlab\n",
    "from mpl_toolkits.mplot3d import Axes3D\n",
    "from scipy.interpolate import CubicSpline\n",
    "from lrr_annot.loader import Loader\n",
    "from lrr_annot.analyzer import compute_winding, compute_regression, median_slope\n",
    "from lrr_annot.plotter import plot_regression, plot_residue_annotations_3d"
   ]
  },
  {
   "cell_type": "markdown",
   "id": "bc6112d0-92ae-4f31-977a-34bb3776cbe7",
   "metadata": {},
   "source": [
    "## Load in sequence, compute winding number, and compute breakpoints, assuming 2 and 3"
   ]
  },
  {
   "cell_type": "code",
   "execution_count": null,
   "id": "9ad77bf2-0146-4e78-a9f2-b91d7db0d797",
   "metadata": {},
   "outputs": [],
   "source": [
    "protid = \"AT1G72840.2\"\n",
    "#protid = \"AT3G44400.1\"\n",
    "loader = Loader()\n",
    "loader.load_single(\"../pdb\", f\"{protid}.pdb\")\n",
    "X = loader.structures[protid]\n",
    "winding_res = compute_winding(X)\n",
    "winding = winding_res[\"winding\"]\n",
    "\n",
    "regression_res_2 = compute_regression(winding, n_breakpoints=2)\n",
    "regression_res_3 = compute_regression(winding, n_breakpoints=3)\n",
    "regression_res_4 = compute_regression(winding, n_breakpoints=4)\n",
    "regression_res_5 = compute_regression(winding, n_breakpoints=5)"
   ]
  },
  {
   "cell_type": "markdown",
   "id": "9506c7e8-e6a7-4373-ab7a-0acc7a5a8ada",
   "metadata": {},
   "source": [
    "## Plots showing what happens when we use 2 breakpoint regression"
   ]
  },
  {
   "cell_type": "code",
   "execution_count": null,
   "id": "dfe91e9e-8720-4dd3-b824-5e0eea2dcdfe",
   "metadata": {},
   "outputs": [],
   "source": [
    "## Step 0: Define the domains\n",
    "def draw_domains(N):\n",
    "    domains = [(13, 182), (200, 429), (528, 1037)]\n",
    "    colors = ['orange', 'red', 'C2']\n",
    "    texts = [\"TIR\", \"NB-ARC\", \"LRR\"]\n",
    "    rectheight = 1\n",
    "    for domain, color, text in zip(domains, colors, texts):\n",
    "        start, end = domain\n",
    "        rect = patches.Rectangle((start, -rectheight*2), end - start, rectheight, facecolor=color)\n",
    "        plt.gca().add_patch(rect)\n",
    "        plt.text(start+(end-start)/len(text), -rectheight*1.8, text)\n",
    "    plt.plot([0, N], [0]*2, color='k', linewidth=1)\n",
    "\n",
    "plt.figure(figsize=(14, 10))\n",
    "## Step 1: Plot 2 breakpoint results with deviation fill between\n",
    "plt.subplot(221)\n",
    "breakpoints = regression_res_2[\"breakpoints\"]\n",
    "slope = regression_res_2[\"slope\"]\n",
    "plot_regression(plt.gca(), winding, breakpoints, slope, colors=[\"C1\", \"C2\", \"C4\"])\n",
    "N = winding.size\n",
    "draw_domains(N)\n",
    "xticks = list(range(0, 1001, 200)) #+ breakpoints.tolist()\n",
    "plt.xticks(xticks);\n",
    "plt.yticks([0, 5, 10, 15, 20]);\n",
    "\n",
    "[a, b] = breakpoints[0:2]\n",
    "linear = slope * (np.arange(a, b) - (a + b - 1) / 2)\n",
    "y = linear + np.mean(winding[a:b])\n",
    "rg = np.arange(a, b)\n",
    "#plt.plot(rg, winding[a:b]-y)\n",
    "plt.fill_between(rg, y, winding[a:b], color=np.array([0, 0, 0.7, 0.2]))\n",
    "std = np.std(winding[a:b]-y)\n",
    "plt.text(a + (b-a)/5, 15, \"std = {:.2f}\".format(std), c=np.array([0, 0, 0.7, 0.8]))\n",
    "plt.title(\"Piecewise linear regression assuming 2 breakpoints\")\n",
    "\n",
    "## Step 2: Plot 3 breakpoint results\n",
    "plt.subplot(222)\n",
    "breakpoints = regression_res_3[\"breakpoints\"]\n",
    "slope = regression_res_3[\"slope\"]\n",
    "plot_regression(plt.gca(), winding, breakpoints, slope, colors=[\"C1\", \"C2\", \"C4\", \"C2\"])\n",
    "draw_domains(N)\n",
    "\n",
    "N = winding.size\n",
    "[a, b] = breakpoints[0:2]\n",
    "linear = slope * (np.arange(a, b) - (a + b - 1) / 2)\n",
    "y1 = linear + np.mean(winding[a:b])\n",
    "rg1 = np.arange(a, b)\n",
    "print(\"a, b\", a, b)\n",
    "print(winding[a:b].size)\n",
    "plt.fill_between(rg1, y1, winding[a:b], color=np.array([0, 0, 0.7, 0.2]))\n",
    "\n",
    "c = breakpoints[2]\n",
    "d = N\n",
    "linear = slope * (np.arange(c, d) - (c + d - 1) / 2)\n",
    "y2 = linear + np.mean(winding[c:d])\n",
    "rg2 = np.arange(c, d)\n",
    "\n",
    "std = np.std(winding[c:d]-y2)\n",
    "plt.text(c + (d-c)/3, 15, \"std = {:.2f}\".format(std), c=np.array([0, 0, 0.7, 0.8]))\n",
    "\n",
    "plt.fill_between(rg2, y2, winding[c:d], color=np.array([0, 0, 0.7, 0.2]))\n",
    "plt.title(\"Piecewise linear regression assuming 3 breakpoints\")\n",
    "\n",
    "\n",
    "\n",
    "## Step 3: Plot 4 breakpoint results\n",
    "plt.subplot(223)\n",
    "breakpoints = regression_res_4[\"breakpoints\"]\n",
    "slope = regression_res_4[\"slope\"]\n",
    "plot_regression(plt.gca(), winding, breakpoints, slope, colors=[\"C1\", \"C2\", \"C4\", \"C2\", \"C5\"])\n",
    "draw_domains(N)\n",
    "plt.title(\"Piecewise linear regression assuming 4 breakpoints\")\n",
    "\n",
    "plt.subplot(224)\n",
    "breakpoints = regression_res_5[\"breakpoints\"]\n",
    "slope = regression_res_5[\"slope\"]\n",
    "plot_regression(plt.gca(), winding, breakpoints, slope, colors=[\"C1\", \"C2\", \"C4\", \"C2\", \"C5\", \"C2\"])\n",
    "draw_domains(N)\n",
    "plt.title(\"Piecewise linear regression assuming 5 breakpoints\")\n",
    "\n",
    "\n",
    "plt.savefig(\"Multibreakpoint_Plots.svg\", bbox_inches='tight')"
   ]
  },
  {
   "cell_type": "markdown",
   "id": "f4154188-cbca-456e-a8e6-d54d22aa9cb0",
   "metadata": {},
   "source": [
    "## Make Plot of Annotated Regions in 3D"
   ]
  },
  {
   "cell_type": "code",
   "execution_count": null,
   "id": "582ecc4d-bf2a-4eb3-8b70-c77563194335",
   "metadata": {},
   "outputs": [],
   "source": [
    "from mayavi import mlab\n",
    "\n",
    "prop_cycle = plt.rcParams['axes.prop_cycle']\n",
    "colors = prop_cycle.by_key()['color']\n",
    "colors = [int(c[1:], 16) for c in colors]\n",
    "colors = [((c//65536), ((c%65536)//256), (c%256)) for c in colors]\n",
    "\n",
    "X = loader.structures[protid]\n",
    "plot_residue_annotations_3d(X, breakpoints, [colors[1], colors[2], colors[4], colors[2]])\n",
    "mlab.show()"
   ]
  },
  {
   "cell_type": "code",
   "execution_count": null,
   "id": "d9619e55-12f1-4e3e-bfd9-aa600cf43cc6",
   "metadata": {},
   "outputs": [],
   "source": []
  }
 ],
 "metadata": {
  "kernelspec": {
   "display_name": "Python 3 (ipykernel)",
   "language": "python",
   "name": "python3"
  },
  "language_info": {
   "codemirror_mode": {
    "name": "ipython",
    "version": 3
   },
   "file_extension": ".py",
   "mimetype": "text/x-python",
   "name": "python",
   "nbconvert_exporter": "python",
   "pygments_lexer": "ipython3",
   "version": "3.11.8"
  }
 },
 "nbformat": 4,
 "nbformat_minor": 5
}
