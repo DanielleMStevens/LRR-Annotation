{
 "cells": [
  {
   "cell_type": "markdown",
   "metadata": {},
   "source": [
    "# LRR Annotator\n",
    "\n",
    "Below is example usage of our LRR annotator. \n"
   ]
  },
  {
   "cell_type": "code",
   "execution_count": 1,
   "metadata": {
    "tags": []
   },
   "outputs": [],
   "source": [
    "from loader import Loader\n",
    "from analyzer import Analyzer\n",
    "from plotter import Plotter"
   ]
  },
  {
   "cell_type": "code",
   "execution_count": 2,
   "metadata": {
    "tags": []
   },
   "outputs": [],
   "source": [
    "L = Loader()\n",
    "A = Analyzer()\n",
    "P = Plotter()"
   ]
  },
  {
   "cell_type": "code",
   "execution_count": 3,
   "metadata": {
    "tags": []
   },
   "outputs": [],
   "source": [
    "cached = True\n",
    "make_cache = True\n",
    "\n",
    "if cached:\n",
    "    L.retrieve('./cache')\n",
    "    A.retrieve_geometry('./cache')\n",
    "    A.retrieve_regressions('./cache')\n",
    "else:\n",
    "    L.load_batch('./pdb')\n",
    "    A.load_structures(L.structures)\n",
    "    A.compute_windings()\n",
    "    A.compute_regressions()\n",
    "    \n",
    "    if make_cache:\n",
    "        L.cache('./cache')\n",
    "        A.cache_geometry('./cache')\n",
    "        A.cache_regressions('./cache')\n",
    "\n",
    "P.load(A.windings, A.regressions, A.slopes)"
   ]
  },
  {
   "cell_type": "code",
   "execution_count": 5,
   "metadata": {
    "tags": []
   },
   "outputs": [],
   "source": [
    "P.plot_regressions(save = True, directory = './plots')"
   ]
  },
  {
   "cell_type": "code",
   "execution_count": null,
   "metadata": {},
   "outputs": [],
   "source": []
  }
 ],
 "metadata": {
  "kernelspec": {
   "display_name": "Python 3 (ipykernel)",
   "language": "python",
   "name": "python3"
  },
  "language_info": {
   "codemirror_mode": {
    "name": "ipython",
    "version": 3
   },
   "file_extension": ".py",
   "mimetype": "text/x-python",
   "name": "python",
   "nbconvert_exporter": "python",
   "pygments_lexer": "ipython3",
   "version": "3.10.9"
  },
  "vscode": {
   "interpreter": {
    "hash": "fe675079e68a6d281414ea2678c2c2a949490c5470215dde8e7cb626526af73b"
   }
  }
 },
 "nbformat": 4,
 "nbformat_minor": 4
}
