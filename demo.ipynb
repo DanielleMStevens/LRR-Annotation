{
 "cells": [
  {
   "cell_type": "markdown",
   "metadata": {},
   "source": [
    "# LRR Annotator\n",
    "\n",
    "Below is example usage of the LRR annotator. \n",
    "\n",
    "The `Loader`, `Analyzer`, and `Plotter` objects load PDB files from disk, analyze them / perform regressions, and produce winding number plots.\n",
    "\n",
    "Make sure to `pip install -e .` from the directory containing `setup.py` before running this code. (Recommended to do this inside a Conda environment, or virtual environment,\n",
    "so that dependencies installed don't interfere with your existing `pip`). "
   ]
  },
  {
   "cell_type": "code",
   "execution_count": 1,
   "metadata": {
    "tags": []
   },
   "outputs": [],
   "source": [
    "from lrr_annot import Loader, Analyzer, Plotter"
   ]
  },
  {
   "cell_type": "code",
   "execution_count": 2,
   "metadata": {
    "tags": []
   },
   "outputs": [],
   "source": [
    "L = Loader()\n",
    "A = Analyzer()\n",
    "P = Plotter()"
   ]
  },
  {
   "cell_type": "code",
   "execution_count": 3,
   "metadata": {
    "tags": []
   },
   "outputs": [],
   "source": [
    "cached = True\n",
    "make_cache = True\n",
    "\n",
    "if cached:\n",
    "    L.retrieve('./cache')\n",
    "    A.retrieve_geometry('./cache')\n",
    "    A.retrieve_regressions('./cache')\n",
    "else:\n",
    "    L.load_batch('./pdb')\n",
    "    A.load_structures(L.structures)\n",
    "    A.compute_windings()\n",
    "    A.compute_regressions()\n",
    "    \n",
    "    if make_cache:\n",
    "        L.cache('./cache')\n",
    "        A.cache_geometry('./cache')\n",
    "        A.cache_regressions('./cache')\n",
    "\n",
    "P.load(A.windings, A.regressions, A.slopes)"
   ]
  },
  {
   "cell_type": "code",
   "execution_count": 4,
   "metadata": {
    "tags": []
   },
   "outputs": [],
   "source": [
    "P.plot_regressions(save = True, directory = './plots')"
   ]
  }
 ],
 "metadata": {
  "kernelspec": {
   "display_name": "Python 3 (ipykernel)",
   "language": "python",
   "name": "python3"
  },
  "language_info": {
   "codemirror_mode": {
    "name": "ipython",
    "version": 3
   },
   "file_extension": ".py",
   "mimetype": "text/x-python",
   "name": "python",
   "nbconvert_exporter": "python",
   "pygments_lexer": "ipython3",
   "version": "3.12.4"
  },
  "vscode": {
   "interpreter": {
    "hash": "fe675079e68a6d281414ea2678c2c2a949490c5470215dde8e7cb626526af73b"
   }
  }
 },
 "nbformat": 4,
 "nbformat_minor": 4
}
