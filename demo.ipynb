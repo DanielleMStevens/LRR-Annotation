{
 "cells": [
  {
   "attachments": {},
   "cell_type": "markdown",
   "metadata": {},
   "source": [
    "# LRR Annotator\n",
    "\n",
    "Below is example usage of our LRR annotator. \n"
   ]
  },
  {
   "cell_type": "code",
   "execution_count": 24,
   "metadata": {},
   "outputs": [],
   "source": [
    "from loader import Loader\n",
    "from analyzer import Analyzer\n",
    "from plotter import Plotter"
   ]
  },
  {
   "cell_type": "code",
   "execution_count": 31,
   "metadata": {},
   "outputs": [
    {
     "ename": "AttributeError",
     "evalue": "module 'posixpath' has no attribute 'readlines'",
     "output_type": "error",
     "traceback": [
      "\u001b[0;31m---------------------------------------------------------------------------\u001b[0m",
      "\u001b[0;31mTypeError\u001b[0m                                 Traceback (most recent call last)",
      "File \u001b[0;32m/opt/homebrew/Caskroom/mambaforge/base/envs/lrr_annot/lib/python3.10/site-packages/Bio/File.py:72\u001b[0m, in \u001b[0;36mas_handle\u001b[0;34m(handleish, mode, **kwargs)\u001b[0m\n\u001b[1;32m     71\u001b[0m \u001b[39mtry\u001b[39;00m:\n\u001b[0;32m---> 72\u001b[0m     \u001b[39mwith\u001b[39;00m \u001b[39mopen\u001b[39;49m(handleish, mode, \u001b[39m*\u001b[39;49m\u001b[39m*\u001b[39;49mkwargs) \u001b[39mas\u001b[39;00m fp:\n\u001b[1;32m     73\u001b[0m         \u001b[39myield\u001b[39;00m fp\n",
      "\u001b[0;31mTypeError\u001b[0m: expected str, bytes or os.PathLike object, not module",
      "\nDuring handling of the above exception, another exception occurred:\n",
      "\u001b[0;31mAttributeError\u001b[0m                            Traceback (most recent call last)",
      "Cell \u001b[0;32mIn[31], line 2\u001b[0m\n\u001b[1;32m      1\u001b[0m L \u001b[39m=\u001b[39m Loader()\n\u001b[0;32m----> 2\u001b[0m L\u001b[39m.\u001b[39;49mload_batch(\u001b[39m'\u001b[39;49m\u001b[39m./pdb\u001b[39;49m\u001b[39m'\u001b[39;49m)\n\u001b[1;32m      4\u001b[0m A \u001b[39m=\u001b[39m Analyzer()\n\u001b[1;32m      5\u001b[0m P \u001b[39m=\u001b[39m Plotter()\n",
      "Cell \u001b[0;32mIn[30], line 24\u001b[0m, in \u001b[0;36mLoader.load_batch\u001b[0;34m(self, directory)\u001b[0m\n\u001b[1;32m     21\u001b[0m \u001b[39mself\u001b[39m\u001b[39m.\u001b[39mparser \u001b[39m=\u001b[39m PDBParser()\n\u001b[1;32m     23\u001b[0m \u001b[39mfor\u001b[39;00m pdb \u001b[39min\u001b[39;00m pdbs:\n\u001b[0;32m---> 24\u001b[0m \tchain \u001b[39m=\u001b[39m \u001b[39mnext\u001b[39m(\u001b[39mself\u001b[39;49m\u001b[39m.\u001b[39;49mparser\u001b[39m.\u001b[39;49mget_structure(\u001b[39m'\u001b[39;49m\u001b[39m'\u001b[39;49m, path)\u001b[39m.\u001b[39mget_chains())\n\u001b[1;32m     25\u001b[0m \t\u001b[39mself\u001b[39m\u001b[39m.\u001b[39mstructures[pdb] \u001b[39m=\u001b[39m np\u001b[39m.\u001b[39marray([np\u001b[39m.\u001b[39marray(\u001b[39mlist\u001b[39m(residue[\u001b[39m\"\u001b[39m\u001b[39mCA\u001b[39m\u001b[39m\"\u001b[39m]\u001b[39m.\u001b[39mget_vector())) \u001b[39mfor\u001b[39;00m residue \u001b[39min\u001b[39;00m chain\u001b[39m.\u001b[39mget_residues()])\n",
      "File \u001b[0;32m/opt/homebrew/Caskroom/mambaforge/base/envs/lrr_annot/lib/python3.10/site-packages/Bio/PDB/PDBParser.py:97\u001b[0m, in \u001b[0;36mPDBParser.get_structure\u001b[0;34m(self, id, file)\u001b[0m\n\u001b[1;32m     94\u001b[0m \u001b[39mself\u001b[39m\u001b[39m.\u001b[39mstructure_builder\u001b[39m.\u001b[39minit_structure(\u001b[39mid\u001b[39m)\n\u001b[1;32m     96\u001b[0m \u001b[39mwith\u001b[39;00m as_handle(file) \u001b[39mas\u001b[39;00m handle:\n\u001b[0;32m---> 97\u001b[0m     lines \u001b[39m=\u001b[39m handle\u001b[39m.\u001b[39;49mreadlines()\n\u001b[1;32m     98\u001b[0m     \u001b[39mif\u001b[39;00m \u001b[39mnot\u001b[39;00m lines:\n\u001b[1;32m     99\u001b[0m         \u001b[39mraise\u001b[39;00m \u001b[39mValueError\u001b[39;00m(\u001b[39m\"\u001b[39m\u001b[39mEmpty file.\u001b[39m\u001b[39m\"\u001b[39m)\n",
      "\u001b[0;31mAttributeError\u001b[0m: module 'posixpath' has no attribute 'readlines'"
     ]
    }
   ],
   "source": [
    "L = Loader()\n",
    "L.load_batch('./pdb')\n",
    "\n",
    "A = Analyzer()\n",
    "P = Plotter()"
   ]
  },
  {
   "cell_type": "code",
   "execution_count": 75,
   "metadata": {},
   "outputs": [],
   "source": [
    "from common import *\n",
    "\n",
    "class Loader:\n",
    "\tdef __init__(self):\n",
    "\t\tself.structures = {}\n",
    "\n",
    "\n",
    "\tdef load_batch(self, directory):\n",
    "\t\t\"\"\"Loads batch of PDB files from specified directory and stores\n",
    "\t\tthem in the self.structures dictionary, where they can be looked up\n",
    "\t\tby filename.\n",
    "\n",
    "\t\tArgs:\n",
    "\t\t\tdirectory (str): Path to folder containing .pdb files.\n",
    "\t\t\"\"\"\n",
    "\t\tparser = PDBParser()\n",
    "\t\tfor filename in os.listdir(directory):\n",
    "\t\t\tif filename.endswith('.pdb'):\n",
    "\t\t\t\tpath = os.path.join(directory, filename)\n",
    "\t\t\t\tkey = os.path.splitext(filename)[0]\n",
    "\t\t\t\tchain = next(parser.get_structure(key, path).get_chains())\n",
    "\t\t\t\tself.structures[key] = np.array([np.array(list(residue[\"CA\"].get_vector())) for residue in chain.get_residues()])\t\n",
    "\n",
    "\n",
    "\tdef load_single(self, directory, filename):\n",
    "\t\t\"\"\"Loads single PDB file from specified path, stores it in the\n",
    "\t\tself.structures dictionary\n",
    "\n",
    "\t\tArgs:\n",
    "\t\t\tpdb_file (str): Path to .pdb file.\n",
    "\t\t\"\"\"\n",
    "\t\tparser = PDBParser()\n",
    "\t\tassert filename in os.listdir(directory)\n",
    "\n",
    "\t\tif filename.endswith('.pdb'):\n",
    "\t\t\tpath = os.path.join(directory, filename)\n",
    "\t\t\tkey = os.path.splitext(pdb_file)[0]\n",
    "\t\t\tchain = next(parser.get_structure(key, path).get_chains())\n",
    "\t\t\tself.structures[key] = np.array([np.array(list(residue[\"CA\"].get_vector())) for residue in chain.get_residues()])\t\n"
   ]
  },
  {
   "cell_type": "code",
   "execution_count": 74,
   "metadata": {},
   "outputs": [
    {
     "ename": "AttributeError",
     "evalue": "'str' object has no attribute 'ends_with'",
     "output_type": "error",
     "traceback": [
      "\u001b[0;31m---------------------------------------------------------------------------\u001b[0m",
      "\u001b[0;31mAttributeError\u001b[0m                            Traceback (most recent call last)",
      "Cell \u001b[0;32mIn[74], line 2\u001b[0m\n\u001b[1;32m      1\u001b[0m a \u001b[39m=\u001b[39m \u001b[39m'\u001b[39m\u001b[39m./pdb/AT5G47280.1.pdb\u001b[39m\u001b[39m'\u001b[39m\n\u001b[0;32m----> 2\u001b[0m a\u001b[39m.\u001b[39;49mends_with(\u001b[39m'\u001b[39m\u001b[39m.pdb\u001b[39m\u001b[39m'\u001b[39m)\n",
      "\u001b[0;31mAttributeError\u001b[0m: 'str' object has no attribute 'ends_with'"
     ]
    }
   ],
   "source": [
    "a = './pdb/AT5G47280.1.pdb'\n",
    "a.ends_with('.pdb')"
   ]
  },
  {
   "cell_type": "code",
   "execution_count": 76,
   "metadata": {},
   "outputs": [],
   "source": [
    "L = Loader()\n",
    "# L.load_batch('./pdb/')"
   ]
  },
  {
   "cell_type": "code",
   "execution_count": 77,
   "metadata": {},
   "outputs": [],
   "source": [
    "L.load_single('./pdb/AT5G47280.1.pdb')\n",
    "# plt.plot(L.structures['AT5G47280.1'])"
   ]
  },
  {
   "cell_type": "code",
   "execution_count": 78,
   "metadata": {},
   "outputs": [
    {
     "data": {
      "text/plain": [
       "{'./pdb/AT5G47280.1': array([[-18.75600052, -22.66900063,  -2.69099998],\n",
       "        [-19.69799995, -19.45199966,  -4.60200024],\n",
       "        [-23.38599968, -20.55900002,  -4.90500021],\n",
       "        ...,\n",
       "        [  7.49700022,  -8.14999962,  10.97000027],\n",
       "        [ 10.54599953, -10.30500031,  10.8760004 ],\n",
       "        [ 12.35299969,  -8.45400047,   7.97599983]])}"
      ]
     },
     "execution_count": 78,
     "metadata": {},
     "output_type": "execute_result"
    }
   ],
   "source": [
    "L.structures"
   ]
  },
  {
   "cell_type": "code",
   "execution_count": 71,
   "metadata": {},
   "outputs": [
    {
     "data": {
      "text/plain": [
       "['AT5G47280.1.pdb',\n",
       " 'AT1G15890.1.pdb',\n",
       " 'AT3G04220.1.pdb',\n",
       " 'AT5G46470.1.pdb',\n",
       " 'AT5G38350.1.pdb',\n",
       " 'AT5G41750.1.pdb',\n",
       " 'AT5G66910.1.pdb',\n",
       " 'AT1G56520.1.pdb',\n",
       " 'AT1G31540.2.pdb',\n",
       " 'AT3G46530.1.pdb',\n",
       " 'AT5G41750.2.pdb',\n",
       " 'AT5G11250.1.pdb',\n",
       " 'AT3G14470.1.pdb',\n",
       " 'AT1G56520.2.pdb',\n",
       " 'AT4G12010.1.pdb',\n",
       " 'AT1G31540.1.pdb',\n",
       " 'AT4G16960.1.pdb',\n",
       " 'AT4G36150.1.pdb',\n",
       " 'AT1G61180.2.pdb',\n",
       " 'AT5G18360.1.pdb',\n",
       " 'AT1G12290.1.pdb',\n",
       " 'AT1G10920.1.pdb',\n",
       " 'AT5G46490.2.pdb',\n",
       " 'AT1G63740.1.pdb',\n",
       " 'AT4G16940.1.pdb',\n",
       " 'AT1G59218.2.pdb',\n",
       " 'AT5G51630.1.pdb',\n",
       " 'AT5G45250.1.pdb',\n",
       " 'AT5G17680.1.pdb',\n",
       " 'AT5G43740.1.pdb',\n",
       " 'AT3G44400.2.pdb',\n",
       " 'AT4G16860.1.pdb',\n",
       " 'AT1G61180.1.pdb',\n",
       " 'AT5G47260.1.pdb',\n",
       " 'AT5G46260.1.pdb',\n",
       " 'AT1G12290.2.pdb',\n",
       " 'AT5G46450.1.pdb',\n",
       " 'AT5G51630.3.pdb',\n",
       " 'AT1G10920.2.pdb',\n",
       " 'AT5G40060.1.pdb',\n",
       " 'AT1G59218.1.pdb',\n",
       " 'AT5G51630.2.pdb',\n",
       " 'AT5G43740.2.pdb',\n",
       " 'AT5G17970.1.pdb',\n",
       " 'AT1G59124.1.pdb',\n",
       " 'AT1G61300.1.pdb',\n",
       " 'AT1G63870.1.pdb',\n",
       " 'AT3G44400.1.pdb',\n",
       " 'AT5G17890.1.pdb',\n",
       " 'AT5G45210.1.pdb',\n",
       " 'AT2G17060.1.pdb',\n",
       " 'AT3G46710.1.pdb',\n",
       " 'AT1G58807.2.pdb',\n",
       " 'AT4G16900.1.pdb',\n",
       " 'AT1G12210.1.pdb',\n",
       " 'AT5G45050.1.pdb',\n",
       " 'AT4G33300.2.pdb',\n",
       " 'AT5G66890.1.pdb',\n",
       " 'AT1G58410.1.pdb',\n",
       " 'AT5G48620.1.pdb',\n",
       " 'AT1G56540.1.pdb',\n",
       " 'AT1G58807.1.pdb',\n",
       " 'AT3G44480.1.pdb',\n",
       " 'AT5G44870.1.pdb',\n",
       " 'AT5G45050.2.pdb',\n",
       " 'AT4G19520.1.pdb',\n",
       " 'AT1G27170.1.pdb',\n",
       " 'AT3G51570.1.pdb',\n",
       " 'AT4G27190.1.pdb',\n",
       " 'AT5G40100.1.pdb',\n",
       " 'AT4G33300.1.pdb',\n",
       " 'AT4G19050.1.pdb',\n",
       " 'AT5G63020.1.pdb',\n",
       " 'AT5G41550.1.pdb',\n",
       " 'AT1G65850.1.pdb',\n",
       " 'AT5G46510.1.pdb',\n",
       " 'AT4G26090.1.pdb',\n",
       " 'AT4G19500.1.pdb',\n",
       " 'AT4G16920.1.pdb',\n",
       " 'AT5G38850.1.pdb',\n",
       " 'AT3G46730.1.pdb',\n",
       " 'AT5G45230.1.pdb',\n",
       " 'AT1G63350.1.pdb',\n",
       " 'AT1G65850.2.pdb',\n",
       " 'AT1G64070.1.pdb',\n",
       " 'AT4G19500.2.pdb',\n",
       " 'AT3G50950.1.pdb',\n",
       " 'AT5G45260.1.pdb',\n",
       " 'AT3G14460.1.pdb',\n",
       " 'AT4G36140.1.pdb',\n",
       " 'AT5G58120.1.pdb',\n",
       " 'AT3G07040.1.pdb',\n",
       " 'AT3G44670.2.pdb',\n",
       " 'AT5G18350.1.pdb',\n",
       " 'AT5G41740.2.pdb',\n",
       " 'AT1G58848.1.pdb',\n",
       " 'AT1G57650.2.pdb',\n",
       " 'AT3G50950.2.pdb',\n",
       " 'AT5G45260.2.pdb',\n",
       " 'AT5G66900.1.pdb',\n",
       " 'AT5G49140.1.pdb',\n",
       " 'AT1G63880.1.pdb',\n",
       " 'AT5G48770.1.pdb',\n",
       " 'AT1G59620.1.pdb',\n",
       " 'AT3G44670.1.pdb',\n",
       " 'AT5G41740.1.pdb',\n",
       " 'AT5G47250.1.pdb',\n",
       " 'AT1G33560.1.pdb',\n",
       " 'AT5G38340.1.pdb',\n",
       " 'AT1G57650.1.pdb',\n",
       " 'AT1G58848.2.pdb',\n",
       " 'AT4G16950.2.pdb',\n",
       " 'AT1G58602.2.pdb',\n",
       " 'AT1G63750.2.pdb',\n",
       " 'AT5G17880.1.pdb',\n",
       " 'AT1G56510.1.pdb',\n",
       " 'AT1G61310.1.pdb',\n",
       " 'AT1G63860.1.pdb',\n",
       " 'AT1G58390.1.pdb',\n",
       " 'AT4G12020.2.pdb',\n",
       " 'AT4G12020.3.pdb',\n",
       " 'AT5G22690.1.pdb',\n",
       " 'AT1G61190.1.pdb',\n",
       " 'AT5G46270.1.pdb',\n",
       " 'AT1G63750.3.pdb',\n",
       " 'AT4G16950.1.pdb',\n",
       " 'AT1G58602.1.pdb',\n",
       " 'AT1G63750.1.pdb',\n",
       " 'AT1G53350.1.pdb',\n",
       " 'AT4G09430.1.pdb',\n",
       " 'AT1G63860.2.pdb',\n",
       " 'AT5G04720.1.pdb',\n",
       " 'AT5G45240.1.pdb',\n",
       " 'AT4G12020.1.pdb',\n",
       " 'AT1G12280.1.pdb',\n",
       " 'AT5G18370.1.pdb',\n",
       " 'AT1G69550.1.pdb',\n",
       " 'AT3G51560.1.pdb',\n",
       " 'AT5G46520.1.pdb',\n",
       " 'AT4G11170.1.pdb',\n",
       " 'AT4G19530.1.pdb',\n",
       " 'AT5G43470.2.pdb',\n",
       " 'AT1G72840.2.pdb',\n",
       " 'AT4G10780.1.pdb',\n",
       " 'AT1G58400.1.pdb',\n",
       " 'AT5G36930.2.pdb',\n",
       " 'AT1G17600.1.pdb',\n",
       " 'AT4G27220.1.pdb',\n",
       " 'AT1G63360.1.pdb',\n",
       " 'AT5G43470.1.pdb',\n",
       " 'AT1G72840.1.pdb',\n",
       " 'AT5G05400.1.pdb',\n",
       " 'AT5G36930.1.pdb',\n",
       " 'AT5G45200.1.pdb',\n",
       " 'AT1G62630.1.pdb',\n",
       " 'AT5G44510.1.pdb',\n",
       " 'AT4G09360.1.pdb',\n",
       " 'AT1G72860.1.pdb',\n",
       " 'AT5G40910.1.pdb',\n",
       " 'AT5G45060.1.pdb',\n",
       " 'AT4G19510.2.pdb',\n",
       " 'AT1G12220.1.pdb',\n",
       " 'AT3G44630.2.pdb',\n",
       " 'AT1G63730.1.pdb',\n",
       " 'AT3G44630.3.pdb',\n",
       " 'AT5G35450.1.pdb',\n",
       " 'AT5G43730.1.pdb',\n",
       " 'AT2G17050.1.pdb',\n",
       " 'AT4G08450.1.pdb',\n",
       " 'AT1G27180.1.pdb',\n",
       " 'AT4G19510.1.pdb',\n",
       " 'AT1G12220.2.pdb',\n",
       " 'AT1G59780.1.pdb',\n",
       " 'AT3G44630.1.pdb',\n",
       " 'AT5G41540.1.pdb',\n",
       " 'AT1G50180.1.pdb',\n",
       " 'AT2G16870.1.pdb']"
      ]
     },
     "execution_count": 71,
     "metadata": {},
     "output_type": "execute_result"
    }
   ],
   "source": [
    "os.listdir('./pdb/AT5G47280.1.pdb')"
   ]
  },
  {
   "cell_type": "code",
   "execution_count": null,
   "metadata": {},
   "outputs": [],
   "source": []
  }
 ],
 "metadata": {
  "kernelspec": {
   "display_name": "lrr_annot",
   "language": "python",
   "name": "python3"
  },
  "language_info": {
   "codemirror_mode": {
    "name": "ipython",
    "version": 3
   },
   "file_extension": ".py",
   "mimetype": "text/x-python",
   "name": "python",
   "nbconvert_exporter": "python",
   "pygments_lexer": "ipython3",
   "version": "3.10.9"
  },
  "orig_nbformat": 4,
  "vscode": {
   "interpreter": {
    "hash": "fe675079e68a6d281414ea2678c2c2a949490c5470215dde8e7cb626526af73b"
   }
  }
 },
 "nbformat": 4,
 "nbformat_minor": 2
}
