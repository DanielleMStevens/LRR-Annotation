{
 "cells": [
  {
   "cell_type": "markdown",
   "metadata": {},
   "source": [
    "# LRR Annotator example on Arabidillo\n",
    "\n",
    "Below is example usage of the LRR annotator run on The Arabidillo protein, which contains both Ankyrin and LRR repeat domains.\n",
    "\n",
    "The `Loader`, `Analyzer`, and `Plotter` objects load PDB files from disk, analyze them / perform regressions, and produce winding number plots.\n",
    "\n",
    "Make sure to `pip install -e .` from the directory containing `setup.py` before running this code. (Recommended to do this inside a Conda environment, or virtual environment,\n",
    "so that dependencies installed don't interfere with your existing `pip`). "
   ]
  },
  {
   "cell_type": "code",
   "execution_count": 1,
   "metadata": {
    "tags": []
   },
   "outputs": [],
   "source": [
    "from lrr_annot import Loader, Analyzer, Plotter"
   ]
  },
  {
   "cell_type": "code",
   "execution_count": 2,
   "metadata": {
    "tags": []
   },
   "outputs": [],
   "source": [
    "L = Loader()\n",
    "A = Analyzer()\n",
    "P = Plotter()"
   ]
  },
  {
   "cell_type": "code",
   "execution_count": 3,
   "metadata": {},
   "outputs": [
    {
     "name": "stderr",
     "output_type": "stream",
     "text": [
      "Loading PDBs: 100%|██████████| 2/2 [00:00<00:00, 30.71it/s]\n",
      "Computing windings: 100%|██████████| 1/1 [00:00<00:00, 10.31it/s]\n",
      "Computing regressions: 100%|██████████| 1/1 [00:01<00:00,  1.58s/it]\n"
     ]
    }
   ],
   "source": [
    "L.load_batch('./pdb/misc')\n",
    "A.load_structures(L.structures)\n",
    "A.compute_windings()\n",
    "A.compute_regressions()"
   ]
  },
  {
   "cell_type": "code",
   "execution_count": null,
   "metadata": {},
   "outputs": [],
   "source": [
    "def compute_regression(winding, n_breakpoints=2, penalties=[1, 1.5], learning_rate=0.01, iterations=10000, initial_guess=[]):\n",
    "    \"\"\"\n",
    "    Computes piecewise-linear regressions (constant - slope = m - constant) over\n",
    "    all cumulative winding curves stored in the `winding` dictionary. Writes the parameters\n",
    "    of these regressions to the `parameters` and `slopes` dictionaries.\n",
    "\n",
    "    Parameters\n",
    "    ----------\n",
    "    winding: ndarray(n)\n",
    "        The winding number at each residue\n",
    "    n_breakpoints: int (optional)\n",
    "        How many breakpoints to use\n",
    "    penalties: list[float, float] (optional)\n",
    "        Two-element list describing the relative penalties, in the loss function, of deviation. \n",
    "        The first component refers to the non-coiling regions; the second to the coiling region.\n",
    "        Defaults to [1, 1.5].\n",
    "    learning_rate: float (optional)\n",
    "        Scalar for gradient descent in parameter optimization. Defaults to 0.01.\n",
    "        iterations (int, optional): Iterations of gradient descent. Defaults to 10000.\n",
    "    iterations: int (optional)\n",
    "        Number of iterations in gradient descent.  Defaults to 10000\n",
    "    initial_guess: list of float (optional)\n",
    "        An initial guess of the breakpoint locations.  If not specified, initial conditions\n",
    "        will be taken as equally spaced.\n",
    "    \n",
    "    Returns\n",
    "    -------\n",
    "    {\n",
    "        slope: float\n",
    "            Estimated slope in each winding segment\n",
    "        breakpoints: ndarray(int)\n",
    "            Residue locations of the breakpoints\n",
    "        loss: float\n",
    "            Final loss from the regression\n",
    "    }\n",
    "    \"\"\"\n",
    "    n = len(winding)\n",
    "\n",
    "    if len(initial_guess) > 0:\n",
    "        breakpoints = np.array(initial_guess)\n",
    "    else:\n",
    "        # best-guess initialization\n",
    "        breakpoints = n * (1 + np.arange(n_breakpoints)) / (n_breakpoints + 1)\n",
    "    gradient = np.zeros(n_breakpoints)\n",
    "    delta = [*np.identity(n_breakpoints)]\n",
    "\n",
    "    m, _ = median_slope(winding)\n",
    "\n",
    "    for _ in range(iterations):\n",
    "        present = multi_loss(winding, breakpoints, m, penalties)\n",
    "        # Compute a finite difference approximation of the gradient\n",
    "        gradient = np.array([multi_loss(winding, breakpoints + d, m, penalties) - present for d in delta])\n",
    "        breakpoints = breakpoints - learning_rate * gradient\n",
    "        # Safeguards\n",
    "        breakpoints[breakpoints > winding.size] = winding.size\n",
    "        breakpoints = np.sort(breakpoints)\n",
    "\n",
    "    # if breakpoints[-1] > 0.9 * n:\n",
    "    #     breakpoints[-1] = len(winding)\n",
    "\n",
    "    return dict(\n",
    "        slope=m,\n",
    "        breakpoints=np.array(breakpoints, dtype=int),\n",
    "        loss=present\n",
    "    )"
   ]
  },
  {
   "cell_type": "code",
   "execution_count": 23,
   "metadata": {},
   "outputs": [
    {
     "name": "stderr",
     "output_type": "stream",
     "text": [
      "Loading PDBs: 100%|██████████| 3/3 [00:00<00:00,  9.94it/s]\n",
      "Computing windings: 100%|██████████| 2/2 [00:00<00:00, 62.69it/s]\n",
      "Computing regressions: 100%|██████████| 2/2 [00:03<00:00,  1.61s/it]\n"
     ]
    }
   ],
   "source": []
  },
  {
   "cell_type": "markdown",
   "metadata": {},
   "source": [
    "Winding number computation on Arabidillo"
   ]
  },
  {
   "cell_type": "code",
   "execution_count": 25,
   "metadata": {},
   "outputs": [
    {
     "data": {
      "text/plain": [
       "[<matplotlib.lines.Line2D at 0x13a3af010>]"
      ]
     },
     "execution_count": 25,
     "metadata": {},
     "output_type": "execute_result"
    },
    {
     "data": {
      "image/png": "[encoded data removed]",
      "text/plain": [
       "<Figure size 640x480 with 1 Axes>"
      ]
     },
     "metadata": {},
     "output_type": "display_data"
    }
   ],
   "source": [
    "import matplotlib.pyplot as plt\n",
    "plt.plot(A.windings['arabidillo'])"
   ]
  },
  {
   "cell_type": "code",
   "execution_count": 4,
   "metadata": {
    "tags": []
   },
   "outputs": [],
   "source": [
    "P.load(A.windings, A.regressions, A.slopes)"
   ]
  },
  {
   "cell_type": "code",
   "execution_count": 5,
   "metadata": {
    "tags": []
   },
   "outputs": [
    {
     "name": "stderr",
     "output_type": "stream",
     "text": [
      "Making plots: 100%|██████████████████████████████████████████████████████████████████████████████████████████████████████████████| 177/177 [00:08<00:00, 21.96it/s]\n"
     ]
    }
   ],
   "source": [
    "P.plot_regressions(save = True, directory = './plots')"
   ]
  },
  {
   "cell_type": "code",
   "execution_count": null,
   "metadata": {},
   "outputs": [],
   "source": []
  }
 ],
 "metadata": {
  "kernelspec": {
   "display_name": "Python 3 (ipykernel)",
   "language": "python",
   "name": "python3"
  },
  "language_info": {
   "codemirror_mode": {
    "name": "ipython",
    "version": 3
   },
   "file_extension": ".py",
   "mimetype": "text/x-python",
   "name": "python",
   "nbconvert_exporter": "python",
   "pygments_lexer": "ipython3",
   "version": "3.10.9"
  },
  "vscode": {
   "interpreter": {
    "hash": "fe675079e68a6d281414ea2678c2c2a949490c5470215dde8e7cb626526af73b"
   }
  }
 },
 "nbformat": 4,
 "nbformat_minor": 4
}
